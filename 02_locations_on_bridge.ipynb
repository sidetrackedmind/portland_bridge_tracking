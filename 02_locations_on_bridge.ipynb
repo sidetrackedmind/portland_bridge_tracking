{
 "cells": [
  {
   "cell_type": "markdown",
   "metadata": {},
   "source": [
    "## To Do\n",
    "- find bridge geometry files\n",
    "- convert lat/lon to WGS84\n",
    "- convert timestamp and try to separate \"trips\"\n",
    "\n",
    "## Future\n",
    "- think about downloading moving pandas?"
   ]
  },
  {
   "cell_type": "code",
   "execution_count": 26,
   "metadata": {},
   "outputs": [],
   "source": [
    "import pandas as pd\n",
    "import json\n",
    "import geopandas as gpd\n",
    "import folium"
   ]
  },
  {
   "cell_type": "code",
   "execution_count": 20,
   "metadata": {},
   "outputs": [],
   "source": [
    "with open(\"location_data/Records.json\", 'rb') as f:\n",
    "    record_json = json.loads(f.read())"
   ]
  },
  {
   "cell_type": "code",
   "execution_count": 21,
   "metadata": {},
   "outputs": [
    {
     "data": {
      "text/plain": [
       "{'latitudeE7': 476141570,\n",
       " 'longitudeE7': -1223229821,\n",
       " 'accuracy': 30,\n",
       " 'deviceTag': 532271696,\n",
       " 'deviceDesignation': 'PRIMARY',\n",
       " 'timestamp': '2017-12-21T03:26:02.032Z'}"
      ]
     },
     "execution_count": 21,
     "metadata": {},
     "output_type": "execute_result"
    }
   ],
   "source": [
    "record_json['locations'][0]"
   ]
  },
  {
   "cell_type": "code",
   "execution_count": 22,
   "metadata": {},
   "outputs": [
    {
     "data": {
      "text/html": [
       "<div>\n",
       "<style scoped>\n",
       "    .dataframe tbody tr th:only-of-type {\n",
       "        vertical-align: middle;\n",
       "    }\n",
       "\n",
       "    .dataframe tbody tr th {\n",
       "        vertical-align: top;\n",
       "    }\n",
       "\n",
       "    .dataframe thead th {\n",
       "        text-align: right;\n",
       "    }\n",
       "</style>\n",
       "<table border=\"1\" class=\"dataframe\">\n",
       "  <thead>\n",
       "    <tr style=\"text-align: right;\">\n",
       "      <th></th>\n",
       "      <th>latitudeE7</th>\n",
       "      <th>longitudeE7</th>\n",
       "      <th>accuracy</th>\n",
       "      <th>deviceTag</th>\n",
       "      <th>deviceDesignation</th>\n",
       "      <th>timestamp</th>\n",
       "      <th>source</th>\n",
       "      <th>velocity</th>\n",
       "      <th>heading</th>\n",
       "      <th>altitude</th>\n",
       "      <th>verticalAccuracy</th>\n",
       "      <th>platformType</th>\n",
       "      <th>serverTimestamp</th>\n",
       "      <th>deviceTimestamp</th>\n",
       "      <th>batteryCharging</th>\n",
       "      <th>formFactor</th>\n",
       "    </tr>\n",
       "  </thead>\n",
       "  <tbody>\n",
       "    <tr>\n",
       "      <th>0</th>\n",
       "      <td>476141570</td>\n",
       "      <td>-1223229821</td>\n",
       "      <td>30</td>\n",
       "      <td>532271696</td>\n",
       "      <td>PRIMARY</td>\n",
       "      <td>2017-12-21T03:26:02.032Z</td>\n",
       "      <td>NaN</td>\n",
       "      <td>NaN</td>\n",
       "      <td>NaN</td>\n",
       "      <td>NaN</td>\n",
       "      <td>NaN</td>\n",
       "      <td>NaN</td>\n",
       "      <td>NaN</td>\n",
       "      <td>NaN</td>\n",
       "      <td>NaN</td>\n",
       "      <td>NaN</td>\n",
       "    </tr>\n",
       "    <tr>\n",
       "      <th>1</th>\n",
       "      <td>476141557</td>\n",
       "      <td>-1223231129</td>\n",
       "      <td>41</td>\n",
       "      <td>532271696</td>\n",
       "      <td>PRIMARY</td>\n",
       "      <td>2017-12-21T03:38:47.019Z</td>\n",
       "      <td>VISIT_DEPARTURE</td>\n",
       "      <td>NaN</td>\n",
       "      <td>NaN</td>\n",
       "      <td>NaN</td>\n",
       "      <td>NaN</td>\n",
       "      <td>NaN</td>\n",
       "      <td>NaN</td>\n",
       "      <td>NaN</td>\n",
       "      <td>NaN</td>\n",
       "      <td>NaN</td>\n",
       "    </tr>\n",
       "    <tr>\n",
       "      <th>2</th>\n",
       "      <td>476152483</td>\n",
       "      <td>-1223254265</td>\n",
       "      <td>10</td>\n",
       "      <td>532271696</td>\n",
       "      <td>PRIMARY</td>\n",
       "      <td>2017-12-21T03:39:34.439Z</td>\n",
       "      <td>NaN</td>\n",
       "      <td>NaN</td>\n",
       "      <td>NaN</td>\n",
       "      <td>NaN</td>\n",
       "      <td>NaN</td>\n",
       "      <td>NaN</td>\n",
       "      <td>NaN</td>\n",
       "      <td>NaN</td>\n",
       "      <td>NaN</td>\n",
       "      <td>NaN</td>\n",
       "    </tr>\n",
       "  </tbody>\n",
       "</table>\n",
       "</div>"
      ],
      "text/plain": [
       "   latitudeE7  longitudeE7  accuracy  deviceTag deviceDesignation  \\\n",
       "0   476141570  -1223229821        30  532271696           PRIMARY   \n",
       "1   476141557  -1223231129        41  532271696           PRIMARY   \n",
       "2   476152483  -1223254265        10  532271696           PRIMARY   \n",
       "\n",
       "                  timestamp           source  velocity  heading  altitude  \\\n",
       "0  2017-12-21T03:26:02.032Z              NaN       NaN      NaN       NaN   \n",
       "1  2017-12-21T03:38:47.019Z  VISIT_DEPARTURE       NaN      NaN       NaN   \n",
       "2  2017-12-21T03:39:34.439Z              NaN       NaN      NaN       NaN   \n",
       "\n",
       "   verticalAccuracy platformType serverTimestamp deviceTimestamp  \\\n",
       "0               NaN          NaN             NaN             NaN   \n",
       "1               NaN          NaN             NaN             NaN   \n",
       "2               NaN          NaN             NaN             NaN   \n",
       "\n",
       "  batteryCharging formFactor  \n",
       "0             NaN        NaN  \n",
       "1             NaN        NaN  \n",
       "2             NaN        NaN  "
      ]
     },
     "execution_count": 22,
     "metadata": {},
     "output_type": "execute_result"
    }
   ],
   "source": [
    "records_df = pd.DataFrame(record_json['locations'])\n",
    "records_df.head(3)"
   ]
  },
  {
   "cell_type": "code",
   "execution_count": 24,
   "metadata": {},
   "outputs": [
    {
     "data": {
      "text/html": [
       "<div>\n",
       "<style scoped>\n",
       "    .dataframe tbody tr th:only-of-type {\n",
       "        vertical-align: middle;\n",
       "    }\n",
       "\n",
       "    .dataframe tbody tr th {\n",
       "        vertical-align: top;\n",
       "    }\n",
       "\n",
       "    .dataframe thead th {\n",
       "        text-align: right;\n",
       "    }\n",
       "</style>\n",
       "<table border=\"1\" class=\"dataframe\">\n",
       "  <thead>\n",
       "    <tr style=\"text-align: right;\">\n",
       "      <th></th>\n",
       "      <th>latitudeE7</th>\n",
       "      <th>longitudeE7</th>\n",
       "      <th>accuracy</th>\n",
       "      <th>deviceTag</th>\n",
       "      <th>deviceDesignation</th>\n",
       "      <th>timestamp</th>\n",
       "      <th>source</th>\n",
       "      <th>velocity</th>\n",
       "      <th>heading</th>\n",
       "      <th>altitude</th>\n",
       "      <th>verticalAccuracy</th>\n",
       "      <th>platformType</th>\n",
       "      <th>serverTimestamp</th>\n",
       "      <th>deviceTimestamp</th>\n",
       "      <th>batteryCharging</th>\n",
       "      <th>formFactor</th>\n",
       "      <th>latitude</th>\n",
       "      <th>longitude</th>\n",
       "    </tr>\n",
       "  </thead>\n",
       "  <tbody>\n",
       "    <tr>\n",
       "      <th>0</th>\n",
       "      <td>476141570</td>\n",
       "      <td>-1223229821</td>\n",
       "      <td>30</td>\n",
       "      <td>532271696</td>\n",
       "      <td>PRIMARY</td>\n",
       "      <td>2017-12-21T03:26:02.032Z</td>\n",
       "      <td>NaN</td>\n",
       "      <td>NaN</td>\n",
       "      <td>NaN</td>\n",
       "      <td>NaN</td>\n",
       "      <td>NaN</td>\n",
       "      <td>NaN</td>\n",
       "      <td>NaN</td>\n",
       "      <td>NaN</td>\n",
       "      <td>NaN</td>\n",
       "      <td>NaN</td>\n",
       "      <td>47.614157</td>\n",
       "      <td>-122.322982</td>\n",
       "    </tr>\n",
       "    <tr>\n",
       "      <th>1</th>\n",
       "      <td>476141557</td>\n",
       "      <td>-1223231129</td>\n",
       "      <td>41</td>\n",
       "      <td>532271696</td>\n",
       "      <td>PRIMARY</td>\n",
       "      <td>2017-12-21T03:38:47.019Z</td>\n",
       "      <td>VISIT_DEPARTURE</td>\n",
       "      <td>NaN</td>\n",
       "      <td>NaN</td>\n",
       "      <td>NaN</td>\n",
       "      <td>NaN</td>\n",
       "      <td>NaN</td>\n",
       "      <td>NaN</td>\n",
       "      <td>NaN</td>\n",
       "      <td>NaN</td>\n",
       "      <td>NaN</td>\n",
       "      <td>47.614156</td>\n",
       "      <td>-122.323113</td>\n",
       "    </tr>\n",
       "    <tr>\n",
       "      <th>2</th>\n",
       "      <td>476152483</td>\n",
       "      <td>-1223254265</td>\n",
       "      <td>10</td>\n",
       "      <td>532271696</td>\n",
       "      <td>PRIMARY</td>\n",
       "      <td>2017-12-21T03:39:34.439Z</td>\n",
       "      <td>NaN</td>\n",
       "      <td>NaN</td>\n",
       "      <td>NaN</td>\n",
       "      <td>NaN</td>\n",
       "      <td>NaN</td>\n",
       "      <td>NaN</td>\n",
       "      <td>NaN</td>\n",
       "      <td>NaN</td>\n",
       "      <td>NaN</td>\n",
       "      <td>NaN</td>\n",
       "      <td>47.615248</td>\n",
       "      <td>-122.325427</td>\n",
       "    </tr>\n",
       "  </tbody>\n",
       "</table>\n",
       "</div>"
      ],
      "text/plain": [
       "   latitudeE7  longitudeE7  accuracy  deviceTag deviceDesignation  \\\n",
       "0   476141570  -1223229821        30  532271696           PRIMARY   \n",
       "1   476141557  -1223231129        41  532271696           PRIMARY   \n",
       "2   476152483  -1223254265        10  532271696           PRIMARY   \n",
       "\n",
       "                  timestamp           source  velocity  heading  altitude  \\\n",
       "0  2017-12-21T03:26:02.032Z              NaN       NaN      NaN       NaN   \n",
       "1  2017-12-21T03:38:47.019Z  VISIT_DEPARTURE       NaN      NaN       NaN   \n",
       "2  2017-12-21T03:39:34.439Z              NaN       NaN      NaN       NaN   \n",
       "\n",
       "   verticalAccuracy platformType serverTimestamp deviceTimestamp  \\\n",
       "0               NaN          NaN             NaN             NaN   \n",
       "1               NaN          NaN             NaN             NaN   \n",
       "2               NaN          NaN             NaN             NaN   \n",
       "\n",
       "  batteryCharging formFactor   latitude   longitude  \n",
       "0             NaN        NaN  47.614157 -122.322982  \n",
       "1             NaN        NaN  47.614156 -122.323113  \n",
       "2             NaN        NaN  47.615248 -122.325427  "
      ]
     },
     "execution_count": 24,
     "metadata": {},
     "output_type": "execute_result"
    }
   ],
   "source": [
    "records_df['latitude'] = records_df['latitudeE7'].apply(lambda x: x/10000000)\n",
    "records_df['longitude'] = records_df['longitudeE7'].apply(lambda x: x/10000000)\n",
    "records_df.head(3)"
   ]
  },
  {
   "cell_type": "code",
   "execution_count": 25,
   "metadata": {},
   "outputs": [],
   "source": [
    "geometry = gpd.points_from_xy(records_df.longitude, records_df.latitude, crs=\"EPSG:4326\")\n",
    "records_gpf = gpd.GeoDataFrame(records_df, crs=\"EPSG:4326\", geometry=geometry)"
   ]
  },
  {
   "cell_type": "code",
   "execution_count": 29,
   "metadata": {},
   "outputs": [
    {
     "data": {
      "text/plain": [
       "(40384, 19)"
      ]
     },
     "execution_count": 29,
     "metadata": {},
     "output_type": "execute_result"
    }
   ],
   "source": [
    "records_gpf.shape"
   ]
  },
  {
   "cell_type": "markdown",
   "metadata": {},
   "source": [
    "## Import bridge buffer"
   ]
  },
  {
   "cell_type": "code",
   "execution_count": 28,
   "metadata": {},
   "outputs": [],
   "source": [
    "bridge_buffers = gpd.read_file('gis_data/portland_river_bridge_buffer.geojson')"
   ]
  },
  {
   "cell_type": "code",
   "execution_count": 30,
   "metadata": {},
   "outputs": [],
   "source": [
    "records_on_bridge = gpd.overlay(records_gpf, bridge_buffers, how='intersection', keep_geom_type=True, make_valid=True)"
   ]
  },
  {
   "cell_type": "code",
   "execution_count": 35,
   "metadata": {},
   "outputs": [
    {
     "data": {
      "text/plain": [
       "(224, 25)"
      ]
     },
     "execution_count": 35,
     "metadata": {},
     "output_type": "execute_result"
    }
   ],
   "source": [
    "records_on_bridge.shape"
   ]
  },
  {
   "cell_type": "code",
   "execution_count": 36,
   "metadata": {},
   "outputs": [
    {
     "data": {
      "text/html": [
       "<div style=\"width:100%;\"><div style=\"position:relative;width:100%;height:0;padding-bottom:60%;\"><span style=\"color:#565656\">Make this Notebook Trusted to load map: File -> Trust Notebook</span><iframe src=\"about:blank\" style=\"position:absolute;width:100%;height:100%;left:0;top:0;border:none !important;\" data-html=%3C%21DOCTYPE%20html%3E%0A%3Chead%3E%20%20%20%20%0A%20%20%20%20%3Cmeta%20http-equiv%3D%22content-type%22%20content%3D%22text/html%3B%20charset%3DUTF-8%22%20/%3E%0A%20%20%20%20%0A%20%20%20%20%20%20%20%20%3Cscript%3E%0A%20%20%20%20%20%20%20%20%20%20%20%20L_NO_TOUCH%20%3D%20false%3B%0A%20%20%20%20%20%20%20%20%20%20%20%20L_DISABLE_3D%20%3D%20false%3B%0A%20%20%20%20%20%20%20%20%3C/script%3E%0A%20%20%20%20%0A%20%20%20%20%3Cstyle%3Ehtml%2C%20body%20%7Bwidth%3A%20100%25%3Bheight%3A%20100%25%3Bmargin%3A%200%3Bpadding%3A%200%3B%7D%3C/style%3E%0A%20%20%20%20%3Cstyle%3E%23map%20%7Bposition%3Aabsolute%3Btop%3A0%3Bbottom%3A0%3Bright%3A0%3Bleft%3A0%3B%7D%3C/style%3E%0A%20%20%20%20%3Cscript%20src%3D%22https%3A//cdn.jsdelivr.net/npm/leaflet%401.6.0/dist/leaflet.js%22%3E%3C/script%3E%0A%20%20%20%20%3Cscript%20src%3D%22https%3A//code.jquery.com/jquery-1.12.4.min.js%22%3E%3C/script%3E%0A%20%20%20%20%3Cscript%20src%3D%22https%3A//maxcdn.bootstrapcdn.com/bootstrap/3.2.0/js/bootstrap.min.js%22%3E%3C/script%3E%0A%20%20%20%20%3Cscript%20src%3D%22https%3A//cdnjs.cloudflare.com/ajax/libs/Leaflet.awesome-markers/2.0.2/leaflet.awesome-markers.js%22%3E%3C/script%3E%0A%20%20%20%20%3Clink%20rel%3D%22stylesheet%22%20href%3D%22https%3A//cdn.jsdelivr.net/npm/leaflet%401.6.0/dist/leaflet.css%22/%3E%0A%20%20%20%20%3Clink%20rel%3D%22stylesheet%22%20href%3D%22https%3A//maxcdn.bootstrapcdn.com/bootstrap/3.2.0/css/bootstrap.min.css%22/%3E%0A%20%20%20%20%3Clink%20rel%3D%22stylesheet%22%20href%3D%22https%3A//maxcdn.bootstrapcdn.com/bootstrap/3.2.0/css/bootstrap-theme.min.css%22/%3E%0A%20%20%20%20%3Clink%20rel%3D%22stylesheet%22%20href%3D%22https%3A//maxcdn.bootstrapcdn.com/font-awesome/4.6.3/css/font-awesome.min.css%22/%3E%0A%20%20%20%20%3Clink%20rel%3D%22stylesheet%22%20href%3D%22https%3A//cdnjs.cloudflare.com/ajax/libs/Leaflet.awesome-markers/2.0.2/leaflet.awesome-markers.css%22/%3E%0A%20%20%20%20%3Clink%20rel%3D%22stylesheet%22%20href%3D%22https%3A//cdn.jsdelivr.net/gh/python-visualization/folium/folium/templates/leaflet.awesome.rotate.min.css%22/%3E%0A%20%20%20%20%0A%20%20%20%20%20%20%20%20%20%20%20%20%3Cmeta%20name%3D%22viewport%22%20content%3D%22width%3Ddevice-width%2C%0A%20%20%20%20%20%20%20%20%20%20%20%20%20%20%20%20initial-scale%3D1.0%2C%20maximum-scale%3D1.0%2C%20user-scalable%3Dno%22%20/%3E%0A%20%20%20%20%20%20%20%20%20%20%20%20%3Cstyle%3E%0A%20%20%20%20%20%20%20%20%20%20%20%20%20%20%20%20%23map_cec852df3d13487b91bd25908b429723%20%7B%0A%20%20%20%20%20%20%20%20%20%20%20%20%20%20%20%20%20%20%20%20position%3A%20relative%3B%0A%20%20%20%20%20%20%20%20%20%20%20%20%20%20%20%20%20%20%20%20width%3A%20100.0%25%3B%0A%20%20%20%20%20%20%20%20%20%20%20%20%20%20%20%20%20%20%20%20height%3A%20100.0%25%3B%0A%20%20%20%20%20%20%20%20%20%20%20%20%20%20%20%20%20%20%20%20left%3A%200.0%25%3B%0A%20%20%20%20%20%20%20%20%20%20%20%20%20%20%20%20%20%20%20%20top%3A%200.0%25%3B%0A%20%20%20%20%20%20%20%20%20%20%20%20%20%20%20%20%7D%0A%20%20%20%20%20%20%20%20%20%20%20%20%3C/style%3E%0A%20%20%20%20%20%20%20%20%0A%3C/head%3E%0A%3Cbody%3E%20%20%20%20%0A%20%20%20%20%0A%20%20%20%20%20%20%20%20%20%20%20%20%3Cdiv%20class%3D%22folium-map%22%20id%3D%22map_cec852df3d13487b91bd25908b429723%22%20%3E%3C/div%3E%0A%20%20%20%20%20%20%20%20%0A%3C/body%3E%0A%3Cscript%3E%20%20%20%20%0A%20%20%20%20%0A%20%20%20%20%20%20%20%20%20%20%20%20var%20map_cec852df3d13487b91bd25908b429723%20%3D%20L.map%28%0A%20%20%20%20%20%20%20%20%20%20%20%20%20%20%20%20%22map_cec852df3d13487b91bd25908b429723%22%2C%0A%20%20%20%20%20%20%20%20%20%20%20%20%20%20%20%20%7B%0A%20%20%20%20%20%20%20%20%20%20%20%20%20%20%20%20%20%20%20%20center%3A%20%5B45.5236%2C%20-122.675%5D%2C%0A%20%20%20%20%20%20%20%20%20%20%20%20%20%20%20%20%20%20%20%20crs%3A%20L.CRS.EPSG3857%2C%0A%20%20%20%20%20%20%20%20%20%20%20%20%20%20%20%20%20%20%20%20zoom%3A%2013%2C%0A%20%20%20%20%20%20%20%20%20%20%20%20%20%20%20%20%20%20%20%20zoomControl%3A%20true%2C%0A%20%20%20%20%20%20%20%20%20%20%20%20%20%20%20%20%20%20%20%20preferCanvas%3A%20false%2C%0A%20%20%20%20%20%20%20%20%20%20%20%20%20%20%20%20%7D%0A%20%20%20%20%20%20%20%20%20%20%20%20%29%3B%0A%0A%20%20%20%20%20%20%20%20%20%20%20%20%0A%0A%20%20%20%20%20%20%20%20%0A%20%20%20%20%0A%20%20%20%20%20%20%20%20%20%20%20%20var%20tile_layer_5ab7fc5b72de4157ab0c4b95855c99e9%20%3D%20L.tileLayer%28%0A%20%20%20%20%20%20%20%20%20%20%20%20%20%20%20%20%22https%3A//%7Bs%7D.tile.openstreetmap.org/%7Bz%7D/%7Bx%7D/%7By%7D.png%22%2C%0A%20%20%20%20%20%20%20%20%20%20%20%20%20%20%20%20%7B%22attribution%22%3A%20%22Data%20by%20%5Cu0026copy%3B%20%5Cu003ca%20href%3D%5C%22http%3A//openstreetmap.org%5C%22%5Cu003eOpenStreetMap%5Cu003c/a%5Cu003e%2C%20under%20%5Cu003ca%20href%3D%5C%22http%3A//www.openstreetmap.org/copyright%5C%22%5Cu003eODbL%5Cu003c/a%5Cu003e.%22%2C%20%22detectRetina%22%3A%20false%2C%20%22maxNativeZoom%22%3A%2018%2C%20%22maxZoom%22%3A%2018%2C%20%22minZoom%22%3A%200%2C%20%22noWrap%22%3A%20false%2C%20%22opacity%22%3A%201%2C%20%22subdomains%22%3A%20%22abc%22%2C%20%22tms%22%3A%20false%7D%0A%20%20%20%20%20%20%20%20%20%20%20%20%29.addTo%28map_cec852df3d13487b91bd25908b429723%29%3B%0A%20%20%20%20%20%20%20%20%0A%20%20%20%20%0A%0A%20%20%20%20%20%20%20%20function%20geo_json_4220741ee0404ebfa3628898599f3e75_onEachFeature%28feature%2C%20layer%29%20%7B%0A%20%20%20%20%20%20%20%20%20%20%20%20layer.on%28%7B%0A%20%20%20%20%20%20%20%20%20%20%20%20%7D%29%3B%0A%20%20%20%20%20%20%20%20%7D%3B%0A%20%20%20%20%20%20%20%20var%20geo_json_4220741ee0404ebfa3628898599f3e75%20%3D%20L.geoJson%28null%2C%20%7B%0A%20%20%20%20%20%20%20%20%20%20%20%20%20%20%20%20onEachFeature%3A%20geo_json_4220741ee0404ebfa3628898599f3e75_onEachFeature%2C%0A%20%20%20%20%20%20%20%20%20%20%20%20%0A%20%20%20%20%20%20%20%20%7D%29%3B%0A%0A%20%20%20%20%20%20%20%20function%20geo_json_4220741ee0404ebfa3628898599f3e75_add%20%28data%29%20%7B%0A%20%20%20%20%20%20%20%20%20%20%20%20geo_json_4220741ee0404ebfa3628898599f3e75%0A%20%20%20%20%20%20%20%20%20%20%20%20%20%20%20%20.addData%28data%29%0A%20%20%20%20%20%20%20%20%20%20%20%20%20%20%20%20.addTo%28map_cec852df3d13487b91bd25908b429723%29%3B%0A%20%20%20%20%20%20%20%20%7D%0A%20%20%20%20%20%20%20%20%20%20%20%20geo_json_4220741ee0404ebfa3628898599f3e75_add%28%7B%22bbox%22%3A%20%5B-122.760598%2C%2045.4643218%2C%20-122.5435198%2C%2045.6219249%5D%2C%20%22features%22%3A%20%5B%7B%22bbox%22%3A%20%5B-122.673057%2C%2045.6219249%2C%20-122.673057%2C%2045.6219249%5D%2C%20%22geometry%22%3A%20%7B%22coordinates%22%3A%20%5B-122.673057%2C%2045.6219249%5D%2C%20%22type%22%3A%20%22Point%22%7D%2C%20%22id%22%3A%20%220%22%2C%20%22properties%22%3A%20%7B%7D%2C%20%22type%22%3A%20%22Feature%22%7D%2C%20%7B%22bbox%22%3A%20%5B-122.6799305%2C%2045.610168%2C%20-122.6799305%2C%2045.610168%5D%2C%20%22geometry%22%3A%20%7B%22coordinates%22%3A%20%5B-122.6799305%2C%2045.610168%5D%2C%20%22type%22%3A%20%22Point%22%7D%2C%20%22id%22%3A%20%221%22%2C%20%22properties%22%3A%20%7B%7D%2C%20%22type%22%3A%20%22Feature%22%7D%2C%20%7B%22bbox%22%3A%20%5B-122.6806308%2C%2045.6089668%2C%20-122.6806308%2C%2045.6089668%5D%2C%20%22geometry%22%3A%20%7B%22coordinates%22%3A%20%5B-122.6806308%2C%2045.6089668%5D%2C%20%22type%22%3A%20%22Point%22%7D%2C%20%22id%22%3A%20%222%22%2C%20%22properties%22%3A%20%7B%7D%2C%20%22type%22%3A%20%22Feature%22%7D%2C%20%7B%22bbox%22%3A%20%5B-122.6805305%2C%2045.6087338%2C%20-122.6805305%2C%2045.6087338%5D%2C%20%22geometry%22%3A%20%7B%22coordinates%22%3A%20%5B-122.6805305%2C%2045.6087338%5D%2C%20%22type%22%3A%20%22Point%22%7D%2C%20%22id%22%3A%20%223%22%2C%20%22properties%22%3A%20%7B%7D%2C%20%22type%22%3A%20%22Feature%22%7D%2C%20%7B%22bbox%22%3A%20%5B-122.6798504%2C%2045.6106775%2C%20-122.6798504%2C%2045.6106775%5D%2C%20%22geometry%22%3A%20%7B%22coordinates%22%3A%20%5B-122.6798504%2C%2045.6106775%5D%2C%20%22type%22%3A%20%22Point%22%7D%2C%20%22id%22%3A%20%224%22%2C%20%22properties%22%3A%20%7B%7D%2C%20%22type%22%3A%20%22Feature%22%7D%2C%20%7B%22bbox%22%3A%20%5B-122.6765855%2C%2045.6155763%2C%20-122.6765855%2C%2045.6155763%5D%2C%20%22geometry%22%3A%20%7B%22coordinates%22%3A%20%5B-122.6765855%2C%2045.6155763%5D%2C%20%22type%22%3A%20%22Point%22%7D%2C%20%22id%22%3A%20%225%22%2C%20%22properties%22%3A%20%7B%7D%2C%20%22type%22%3A%20%22Feature%22%7D%2C%20%7B%22bbox%22%3A%20%5B-122.6758109%2C%2045.6172758%2C%20-122.6758109%2C%2045.6172758%5D%2C%20%22geometry%22%3A%20%7B%22coordinates%22%3A%20%5B-122.6758109%2C%2045.6172758%5D%2C%20%22type%22%3A%20%22Point%22%7D%2C%20%22id%22%3A%20%226%22%2C%20%22properties%22%3A%20%7B%7D%2C%20%22type%22%3A%20%22Feature%22%7D%2C%20%7B%22bbox%22%3A%20%5B-122.6827071%2C%2045.604026%2C%20-122.6827071%2C%2045.604026%5D%2C%20%22geometry%22%3A%20%7B%22coordinates%22%3A%20%5B-122.6827071%2C%2045.604026%5D%2C%20%22type%22%3A%20%22Point%22%7D%2C%20%22id%22%3A%20%227%22%2C%20%22properties%22%3A%20%7B%7D%2C%20%22type%22%3A%20%22Feature%22%7D%2C%20%7B%22bbox%22%3A%20%5B-122.6797633%2C%2045.6101852%2C%20-122.6797633%2C%2045.6101852%5D%2C%20%22geometry%22%3A%20%7B%22coordinates%22%3A%20%5B-122.6797633%2C%2045.6101852%5D%2C%20%22type%22%3A%20%22Point%22%7D%2C%20%22id%22%3A%20%228%22%2C%20%22properties%22%3A%20%7B%7D%2C%20%22type%22%3A%20%22Feature%22%7D%2C%20%7B%22bbox%22%3A%20%5B-122.6757954%2C%2045.6170351%2C%20-122.6757954%2C%2045.6170351%5D%2C%20%22geometry%22%3A%20%7B%22coordinates%22%3A%20%5B-122.6757954%2C%2045.6170351%5D%2C%20%22type%22%3A%20%22Point%22%7D%2C%20%22id%22%3A%20%229%22%2C%20%22properties%22%3A%20%7B%7D%2C%20%22type%22%3A%20%22Feature%22%7D%2C%20%7B%22bbox%22%3A%20%5B-122.681422%2C%2045.6073174%2C%20-122.681422%2C%2045.6073174%5D%2C%20%22geometry%22%3A%20%7B%22coordinates%22%3A%20%5B-122.681422%2C%2045.6073174%5D%2C%20%22type%22%3A%20%22Point%22%7D%2C%20%22id%22%3A%20%2210%22%2C%20%22properties%22%3A%20%7B%7D%2C%20%22type%22%3A%20%22Feature%22%7D%2C%20%7B%22bbox%22%3A%20%5B-122.678332%2C%2045.6126165%2C%20-122.678332%2C%2045.6126165%5D%2C%20%22geometry%22%3A%20%7B%22coordinates%22%3A%20%5B-122.678332%2C%2045.6126165%5D%2C%20%22type%22%3A%20%22Point%22%7D%2C%20%22id%22%3A%20%2211%22%2C%20%22properties%22%3A%20%7B%7D%2C%20%22type%22%3A%20%22Feature%22%7D%2C%20%7B%22bbox%22%3A%20%5B-122.6741767%2C%2045.6195472%2C%20-122.6741767%2C%2045.6195472%5D%2C%20%22geometry%22%3A%20%7B%22coordinates%22%3A%20%5B-122.6741767%2C%2045.6195472%5D%2C%20%22type%22%3A%20%22Point%22%7D%2C%20%22id%22%3A%20%2212%22%2C%20%22properties%22%3A%20%7B%7D%2C%20%22type%22%3A%20%22Feature%22%7D%2C%20%7B%22bbox%22%3A%20%5B-122.6733599%2C%2045.6214407%2C%20-122.6733599%2C%2045.6214407%5D%2C%20%22geometry%22%3A%20%7B%22coordinates%22%3A%20%5B-122.6733599%2C%2045.6214407%5D%2C%20%22type%22%3A%20%22Point%22%7D%2C%20%22id%22%3A%20%2213%22%2C%20%22properties%22%3A%20%7B%7D%2C%20%22type%22%3A%20%22Feature%22%7D%2C%20%7B%22bbox%22%3A%20%5B-122.6787806%2C%2045.6124195%2C%20-122.6787806%2C%2045.6124195%5D%2C%20%22geometry%22%3A%20%7B%22coordinates%22%3A%20%5B-122.6787806%2C%2045.6124195%5D%2C%20%22type%22%3A%20%22Point%22%7D%2C%20%22id%22%3A%20%2214%22%2C%20%22properties%22%3A%20%7B%7D%2C%20%22type%22%3A%20%22Feature%22%7D%2C%20%7B%22bbox%22%3A%20%5B-122.6826677%2C%2045.6039992%2C%20-122.6826677%2C%2045.6039992%5D%2C%20%22geometry%22%3A%20%7B%22coordinates%22%3A%20%5B-122.6826677%2C%2045.6039992%5D%2C%20%22type%22%3A%20%22Point%22%7D%2C%20%22id%22%3A%20%2215%22%2C%20%22properties%22%3A%20%7B%7D%2C%20%22type%22%3A%20%22Feature%22%7D%2C%20%7B%22bbox%22%3A%20%5B-122.6745634%2C%2045.6195385%2C%20-122.6745634%2C%2045.6195385%5D%2C%20%22geometry%22%3A%20%7B%22coordinates%22%3A%20%5B-122.6745634%2C%2045.6195385%5D%2C%20%22type%22%3A%20%22Point%22%7D%2C%20%22id%22%3A%20%2216%22%2C%20%22properties%22%3A%20%7B%7D%2C%20%22type%22%3A%20%22Feature%22%7D%2C%20%7B%22bbox%22%3A%20%5B-122.6819494%2C%2045.6067377%2C%20-122.6819494%2C%2045.6067377%5D%2C%20%22geometry%22%3A%20%7B%22coordinates%22%3A%20%5B-122.6819494%2C%2045.6067377%5D%2C%20%22type%22%3A%20%22Point%22%7D%2C%20%22id%22%3A%20%2217%22%2C%20%22properties%22%3A%20%7B%7D%2C%20%22type%22%3A%20%22Feature%22%7D%2C%20%7B%22bbox%22%3A%20%5B-122.6823574%2C%2045.6047156%2C%20-122.6823574%2C%2045.6047156%5D%2C%20%22geometry%22%3A%20%7B%22coordinates%22%3A%20%5B-122.6823574%2C%2045.6047156%5D%2C%20%22type%22%3A%20%22Point%22%7D%2C%20%22id%22%3A%20%2218%22%2C%20%22properties%22%3A%20%7B%7D%2C%20%22type%22%3A%20%22Feature%22%7D%2C%20%7B%22bbox%22%3A%20%5B-122.6808076%2C%2045.6085873%2C%20-122.6808076%2C%2045.6085873%5D%2C%20%22geometry%22%3A%20%7B%22coordinates%22%3A%20%5B-122.6808076%2C%2045.6085873%5D%2C%20%22type%22%3A%20%22Point%22%7D%2C%20%22id%22%3A%20%2219%22%2C%20%22properties%22%3A%20%7B%7D%2C%20%22type%22%3A%20%22Feature%22%7D%2C%20%7B%22bbox%22%3A%20%5B-122.6742762%2C%2045.619569%2C%20-122.6742762%2C%2045.619569%5D%2C%20%22geometry%22%3A%20%7B%22coordinates%22%3A%20%5B-122.6742762%2C%2045.619569%5D%2C%20%22type%22%3A%20%22Point%22%7D%2C%20%22id%22%3A%20%2220%22%2C%20%22properties%22%3A%20%7B%7D%2C%20%22type%22%3A%20%22Feature%22%7D%2C%20%7B%22bbox%22%3A%20%5B-122.6751027%2C%2045.6185556%2C%20-122.6751027%2C%2045.6185556%5D%2C%20%22geometry%22%3A%20%7B%22coordinates%22%3A%20%5B-122.6751027%2C%2045.6185556%5D%2C%20%22type%22%3A%20%22Point%22%7D%2C%20%22id%22%3A%20%2221%22%2C%20%22properties%22%3A%20%7B%7D%2C%20%22type%22%3A%20%22Feature%22%7D%2C%20%7B%22bbox%22%3A%20%5B-122.682104%2C%2045.6063427%2C%20-122.682104%2C%2045.6063427%5D%2C%20%22geometry%22%3A%20%7B%22coordinates%22%3A%20%5B-122.682104%2C%2045.6063427%5D%2C%20%22type%22%3A%20%22Point%22%7D%2C%20%22id%22%3A%20%2222%22%2C%20%22properties%22%3A%20%7B%7D%2C%20%22type%22%3A%20%22Feature%22%7D%2C%20%7B%22bbox%22%3A%20%5B-122.6832105%2C%2045.6046954%2C%20-122.6832105%2C%2045.6046954%5D%2C%20%22geometry%22%3A%20%7B%22coordinates%22%3A%20%5B-122.6832105%2C%2045.6046954%5D%2C%20%22type%22%3A%20%22Point%22%7D%2C%20%22id%22%3A%20%2223%22%2C%20%22properties%22%3A%20%7B%7D%2C%20%22type%22%3A%20%22Feature%22%7D%2C%20%7B%22bbox%22%3A%20%5B-122.6823915%2C%2045.6057309%2C%20-122.6823915%2C%2045.6057309%5D%2C%20%22geometry%22%3A%20%7B%22coordinates%22%3A%20%5B-122.6823915%2C%2045.6057309%5D%2C%20%22type%22%3A%20%22Point%22%7D%2C%20%22id%22%3A%20%2224%22%2C%20%22properties%22%3A%20%7B%7D%2C%20%22type%22%3A%20%22Feature%22%7D%2C%20%7B%22bbox%22%3A%20%5B-122.681843%2C%2045.6063838%2C%20-122.681843%2C%2045.6063838%5D%2C%20%22geometry%22%3A%20%7B%22coordinates%22%3A%20%5B-122.681843%2C%2045.6063838%5D%2C%20%22type%22%3A%20%22Point%22%7D%2C%20%22id%22%3A%20%2225%22%2C%20%22properties%22%3A%20%7B%7D%2C%20%22type%22%3A%20%22Feature%22%7D%2C%20%7B%22bbox%22%3A%20%5B-122.6790025%2C%2045.6115083%2C%20-122.6790025%2C%2045.6115083%5D%2C%20%22geometry%22%3A%20%7B%22coordinates%22%3A%20%5B-122.6790025%2C%2045.6115083%5D%2C%20%22type%22%3A%20%22Point%22%7D%2C%20%22id%22%3A%20%2226%22%2C%20%22properties%22%3A%20%7B%7D%2C%20%22type%22%3A%20%22Feature%22%7D%2C%20%7B%22bbox%22%3A%20%5B-122.6738957%2C%2045.6201488%2C%20-122.6738957%2C%2045.6201488%5D%2C%20%22geometry%22%3A%20%7B%22coordinates%22%3A%20%5B-122.6738957%2C%2045.6201488%5D%2C%20%22type%22%3A%20%22Point%22%7D%2C%20%22id%22%3A%20%2227%22%2C%20%22properties%22%3A%20%7B%7D%2C%20%22type%22%3A%20%22Feature%22%7D%2C%20%7B%22bbox%22%3A%20%5B-122.6737987%2C%2045.6207827%2C%20-122.6737987%2C%2045.6207827%5D%2C%20%22geometry%22%3A%20%7B%22coordinates%22%3A%20%5B-122.6737987%2C%2045.6207827%5D%2C%20%22type%22%3A%20%22Point%22%7D%2C%20%22id%22%3A%20%2228%22%2C%20%22properties%22%3A%20%7B%7D%2C%20%22type%22%3A%20%22Feature%22%7D%2C%20%7B%22bbox%22%3A%20%5B-122.6802971%2C%2045.6092077%2C%20-122.6802971%2C%2045.6092077%5D%2C%20%22geometry%22%3A%20%7B%22coordinates%22%3A%20%5B-122.6802971%2C%2045.6092077%5D%2C%20%22type%22%3A%20%22Point%22%7D%2C%20%22id%22%3A%20%2229%22%2C%20%22properties%22%3A%20%7B%7D%2C%20%22type%22%3A%20%22Feature%22%7D%2C%20%7B%22bbox%22%3A%20%5B-122.6769525%2C%2045.6150144%2C%20-122.6769525%2C%2045.6150144%5D%2C%20%22geometry%22%3A%20%7B%22coordinates%22%3A%20%5B-122.6769525%2C%2045.6150144%5D%2C%20%22type%22%3A%20%22Point%22%7D%2C%20%22id%22%3A%20%2230%22%2C%20%22properties%22%3A%20%7B%7D%2C%20%22type%22%3A%20%22Feature%22%7D%2C%20%7B%22bbox%22%3A%20%5B-122.6781949%2C%2045.6135373%2C%20-122.6781949%2C%2045.6135373%5D%2C%20%22geometry%22%3A%20%7B%22coordinates%22%3A%20%5B-122.6781949%2C%2045.6135373%5D%2C%20%22type%22%3A%20%22Point%22%7D%2C%20%22id%22%3A%20%2231%22%2C%20%22properties%22%3A%20%7B%7D%2C%20%22type%22%3A%20%22Feature%22%7D%2C%20%7B%22bbox%22%3A%20%5B-122.6766707%2C%2045.6154136%2C%20-122.6766707%2C%2045.6154136%5D%2C%20%22geometry%22%3A%20%7B%22coordinates%22%3A%20%5B-122.6766707%2C%2045.6154136%5D%2C%20%22type%22%3A%20%22Point%22%7D%2C%20%22id%22%3A%20%2232%22%2C%20%22properties%22%3A%20%7B%7D%2C%20%22type%22%3A%20%22Feature%22%7D%2C%20%7B%22bbox%22%3A%20%5B-122.682303%2C%2045.6056922%2C%20-122.682303%2C%2045.6056922%5D%2C%20%22geometry%22%3A%20%7B%22coordinates%22%3A%20%5B-122.682303%2C%2045.6056922%5D%2C%20%22type%22%3A%20%22Point%22%7D%2C%20%22id%22%3A%20%2233%22%2C%20%22properties%22%3A%20%7B%7D%2C%20%22type%22%3A%20%22Feature%22%7D%2C%20%7B%22bbox%22%3A%20%5B-122.6801751%2C%2045.6093774%2C%20-122.6801751%2C%2045.6093774%5D%2C%20%22geometry%22%3A%20%7B%22coordinates%22%3A%20%5B-122.6801751%2C%2045.6093774%5D%2C%20%22type%22%3A%20%22Point%22%7D%2C%20%22id%22%3A%20%2234%22%2C%20%22properties%22%3A%20%7B%7D%2C%20%22type%22%3A%20%22Feature%22%7D%2C%20%7B%22bbox%22%3A%20%5B-122.6761368%2C%2045.6163415%2C%20-122.6761368%2C%2045.6163415%5D%2C%20%22geometry%22%3A%20%7B%22coordinates%22%3A%20%5B-122.6761368%2C%2045.6163415%5D%2C%20%22type%22%3A%20%22Point%22%7D%2C%20%22id%22%3A%20%2235%22%2C%20%22properties%22%3A%20%7B%7D%2C%20%22type%22%3A%20%22Feature%22%7D%2C%20%7B%22bbox%22%3A%20%5B-122.679385%2C%2045.6112031%2C%20-122.679385%2C%2045.6112031%5D%2C%20%22geometry%22%3A%20%7B%22coordinates%22%3A%20%5B-122.679385%2C%2045.6112031%5D%2C%20%22type%22%3A%20%22Point%22%7D%2C%20%22id%22%3A%20%2236%22%2C%20%22properties%22%3A%20%7B%7D%2C%20%22type%22%3A%20%22Feature%22%7D%2C%20%7B%22bbox%22%3A%20%5B-122.6794339%2C%2045.6104417%2C%20-122.6794339%2C%2045.6104417%5D%2C%20%22geometry%22%3A%20%7B%22coordinates%22%3A%20%5B-122.6794339%2C%2045.6104417%5D%2C%20%22type%22%3A%20%22Point%22%7D%2C%20%22id%22%3A%20%2237%22%2C%20%22properties%22%3A%20%7B%7D%2C%20%22type%22%3A%20%22Feature%22%7D%2C%20%7B%22bbox%22%3A%20%5B-122.6785606%2C%2045.6131179%2C%20-122.6785606%2C%2045.6131179%5D%2C%20%22geometry%22%3A%20%7B%22coordinates%22%3A%20%5B-122.6785606%2C%2045.6131179%5D%2C%20%22type%22%3A%20%22Point%22%7D%2C%20%22id%22%3A%20%2238%22%2C%20%22properties%22%3A%20%7B%7D%2C%20%22type%22%3A%20%22Feature%22%7D%2C%20%7B%22bbox%22%3A%20%5B-122.6828101%2C%2045.604469%2C%20-122.6828101%2C%2045.604469%5D%2C%20%22geometry%22%3A%20%7B%22coordinates%22%3A%20%5B-122.6828101%2C%2045.604469%5D%2C%20%22type%22%3A%20%22Point%22%7D%2C%20%22id%22%3A%20%2239%22%2C%20%22properties%22%3A%20%7B%7D%2C%20%22type%22%3A%20%22Feature%22%7D%2C%20%7B%22bbox%22%3A%20%5B-122.6810821%2C%2045.6083206%2C%20-122.6810821%2C%2045.6083206%5D%2C%20%22geometry%22%3A%20%7B%22coordinates%22%3A%20%5B-122.6810821%2C%2045.6083206%5D%2C%20%22type%22%3A%20%22Point%22%7D%2C%20%22id%22%3A%20%2240%22%2C%20%22properties%22%3A%20%7B%7D%2C%20%22type%22%3A%20%22Feature%22%7D%2C%20%7B%22bbox%22%3A%20%5B-122.6755168%2C%2045.6179792%2C%20-122.6755168%2C%2045.6179792%5D%2C%20%22geometry%22%3A%20%7B%22coordinates%22%3A%20%5B-122.6755168%2C%2045.6179792%5D%2C%20%22type%22%3A%20%22Point%22%7D%2C%20%22id%22%3A%20%2241%22%2C%20%22properties%22%3A%20%7B%7D%2C%20%22type%22%3A%20%22Feature%22%7D%2C%20%7B%22bbox%22%3A%20%5B-122.6826496%2C%2045.6047663%2C%20-122.6826496%2C%2045.6047663%5D%2C%20%22geometry%22%3A%20%7B%22coordinates%22%3A%20%5B-122.6826496%2C%2045.6047663%5D%2C%20%22type%22%3A%20%22Point%22%7D%2C%20%22id%22%3A%20%2242%22%2C%20%22properties%22%3A%20%7B%7D%2C%20%22type%22%3A%20%22Feature%22%7D%2C%20%7B%22bbox%22%3A%20%5B-122.6759007%2C%2045.6168338%2C%20-122.6759007%2C%2045.6168338%5D%2C%20%22geometry%22%3A%20%7B%22coordinates%22%3A%20%5B-122.6759007%2C%2045.6168338%5D%2C%20%22type%22%3A%20%22Point%22%7D%2C%20%22id%22%3A%20%2243%22%2C%20%22properties%22%3A%20%7B%7D%2C%20%22type%22%3A%20%22Feature%22%7D%2C%20%7B%22bbox%22%3A%20%5B-122.5438705%2C%2045.579026%2C%20-122.5438705%2C%2045.579026%5D%2C%20%22geometry%22%3A%20%7B%22coordinates%22%3A%20%5B-122.5438705%2C%2045.579026%5D%2C%20%22type%22%3A%20%22Point%22%7D%2C%20%22id%22%3A%20%2244%22%2C%20%22properties%22%3A%20%7B%7D%2C%20%22type%22%3A%20%22Feature%22%7D%2C%20%7B%22bbox%22%3A%20%5B-122.5493834%2C%2045.5950888%2C%20-122.5493834%2C%2045.5950888%5D%2C%20%22geometry%22%3A%20%7B%22coordinates%22%3A%20%5B-122.5493834%2C%2045.5950888%5D%2C%20%22type%22%3A%20%22Point%22%7D%2C%20%22id%22%3A%20%2245%22%2C%20%22properties%22%3A%20%7B%7D%2C%20%22type%22%3A%20%22Feature%22%7D%2C%20%7B%22bbox%22%3A%20%5B-122.5508039%2C%2045.598777%2C%20-122.5508039%2C%2045.598777%5D%2C%20%22geometry%22%3A%20%7B%22coordinates%22%3A%20%5B-122.5508039%2C%2045.598777%5D%2C%20%22type%22%3A%20%22Point%22%7D%2C%20%22id%22%3A%20%2246%22%2C%20%22properties%22%3A%20%7B%7D%2C%20%22type%22%3A%20%22Feature%22%7D%2C%20%7B%22bbox%22%3A%20%5B-122.5437891%2C%2045.5823017%2C%20-122.5437891%2C%2045.5823017%5D%2C%20%22geometry%22%3A%20%7B%22coordinates%22%3A%20%5B-122.5437891%2C%2045.5823017%5D%2C%20%22type%22%3A%20%22Point%22%7D%2C%20%22id%22%3A%20%2247%22%2C%20%22properties%22%3A%20%7B%7D%2C%20%22type%22%3A%20%22Feature%22%7D%2C%20%7B%22bbox%22%3A%20%5B-122.5455935%2C%2045.5750725%2C%20-122.5455935%2C%2045.5750725%5D%2C%20%22geometry%22%3A%20%7B%22coordinates%22%3A%20%5B-122.5455935%2C%2045.5750725%5D%2C%20%22type%22%3A%20%22Point%22%7D%2C%20%22id%22%3A%20%2248%22%2C%20%22properties%22%3A%20%7B%7D%2C%20%22type%22%3A%20%22Feature%22%7D%2C%20%7B%22bbox%22%3A%20%5B-122.5456378%2C%2045.5886928%2C%20-122.5456378%2C%2045.5886928%5D%2C%20%22geometry%22%3A%20%7B%22coordinates%22%3A%20%5B-122.5456378%2C%2045.5886928%5D%2C%20%22type%22%3A%20%22Point%22%7D%2C%20%22id%22%3A%20%2249%22%2C%20%22properties%22%3A%20%7B%7D%2C%20%22type%22%3A%20%22Feature%22%7D%2C%20%7B%22bbox%22%3A%20%5B-122.5511974%2C%2045.6027406%2C%20-122.5511974%2C%2045.6027406%5D%2C%20%22geometry%22%3A%20%7B%22coordinates%22%3A%20%5B-122.5511974%2C%2045.6027406%5D%2C%20%22type%22%3A%20%22Point%22%7D%2C%20%22id%22%3A%20%2250%22%2C%20%22properties%22%3A%20%7B%7D%2C%20%22type%22%3A%20%22Feature%22%7D%2C%20%7B%22bbox%22%3A%20%5B-122.5495807%2C%2045.570807%2C%20-122.5495807%2C%2045.570807%5D%2C%20%22geometry%22%3A%20%7B%22coordinates%22%3A%20%5B-122.5495807%2C%2045.570807%5D%2C%20%22type%22%3A%20%22Point%22%7D%2C%20%22id%22%3A%20%2251%22%2C%20%22properties%22%3A%20%7B%7D%2C%20%22type%22%3A%20%22Feature%22%7D%2C%20%7B%22bbox%22%3A%20%5B-122.5490813%2C%2045.5720195%2C%20-122.5490813%2C%2045.5720195%5D%2C%20%22geometry%22%3A%20%7B%22coordinates%22%3A%20%5B-122.5490813%2C%2045.5720195%5D%2C%20%22type%22%3A%20%22Point%22%7D%2C%20%22id%22%3A%20%2252%22%2C%20%22properties%22%3A%20%7B%7D%2C%20%22type%22%3A%20%22Feature%22%7D%2C%20%7B%22bbox%22%3A%20%5B-122.5435198%2C%2045.5812023%2C%20-122.5435198%2C%2045.5812023%5D%2C%20%22geometry%22%3A%20%7B%22coordinates%22%3A%20%5B-122.5435198%2C%2045.5812023%5D%2C%20%22type%22%3A%20%22Point%22%7D%2C%20%22id%22%3A%20%2253%22%2C%20%22properties%22%3A%20%7B%7D%2C%20%22type%22%3A%20%22Feature%22%7D%2C%20%7B%22bbox%22%3A%20%5B-122.5498262%2C%2045.5966561%2C%20-122.5498262%2C%2045.5966561%5D%2C%20%22geometry%22%3A%20%7B%22coordinates%22%3A%20%5B-122.5498262%2C%2045.5966561%5D%2C%20%22type%22%3A%20%22Point%22%7D%2C%20%22id%22%3A%20%2254%22%2C%20%22properties%22%3A%20%7B%7D%2C%20%22type%22%3A%20%22Feature%22%7D%2C%20%7B%22bbox%22%3A%20%5B-122.5473181%2C%2045.573043%2C%20-122.5473181%2C%2045.573043%5D%2C%20%22geometry%22%3A%20%7B%22coordinates%22%3A%20%5B-122.5473181%2C%2045.573043%5D%2C%20%22type%22%3A%20%22Point%22%7D%2C%20%22id%22%3A%20%2255%22%2C%20%22properties%22%3A%20%7B%7D%2C%20%22type%22%3A%20%22Feature%22%7D%2C%20%7B%22bbox%22%3A%20%5B-122.547247%2C%2045.5912413%2C%20-122.547247%2C%2045.5912413%5D%2C%20%22geometry%22%3A%20%7B%22coordinates%22%3A%20%5B-122.547247%2C%2045.5912413%5D%2C%20%22type%22%3A%20%22Point%22%7D%2C%20%22id%22%3A%20%2256%22%2C%20%22properties%22%3A%20%7B%7D%2C%20%22type%22%3A%20%22Feature%22%7D%2C%20%7B%22bbox%22%3A%20%5B-122.6920848%2C%2045.5354317%2C%20-122.6920848%2C%2045.5354317%5D%2C%20%22geometry%22%3A%20%7B%22coordinates%22%3A%20%5B-122.6920848%2C%2045.5354317%5D%2C%20%22type%22%3A%20%22Point%22%7D%2C%20%22id%22%3A%20%2257%22%2C%20%22properties%22%3A%20%7B%7D%2C%20%22type%22%3A%20%22Feature%22%7D%2C%20%7B%22bbox%22%3A%20%5B-122.6824738%2C%2045.5384236%2C%20-122.6824738%2C%2045.5384236%5D%2C%20%22geometry%22%3A%20%7B%22coordinates%22%3A%20%5B-122.6824738%2C%2045.5384236%5D%2C%20%22type%22%3A%20%22Point%22%7D%2C%20%22id%22%3A%20%2258%22%2C%20%22properties%22%3A%20%7B%7D%2C%20%22type%22%3A%20%22Feature%22%7D%2C%20%7B%22bbox%22%3A%20%5B-122.6851915%2C%2045.5361415%2C%20-122.6851915%2C%2045.5361415%5D%2C%20%22geometry%22%3A%20%7B%22coordinates%22%3A%20%5B-122.6851915%2C%2045.5361415%5D%2C%20%22type%22%3A%20%22Point%22%7D%2C%20%22id%22%3A%20%2259%22%2C%20%22properties%22%3A%20%7B%7D%2C%20%22type%22%3A%20%22Feature%22%7D%2C%20%7B%22bbox%22%3A%20%5B-122.6767852%2C%2045.5429176%2C%20-122.6767852%2C%2045.5429176%5D%2C%20%22geometry%22%3A%20%7B%22coordinates%22%3A%20%5B-122.6767852%2C%2045.5429176%5D%2C%20%22type%22%3A%20%22Point%22%7D%2C%20%22id%22%3A%20%2260%22%2C%20%22properties%22%3A%20%7B%7D%2C%20%22type%22%3A%20%22Feature%22%7D%2C%20%7B%22bbox%22%3A%20%5B-122.687158%2C%2045.5315049%2C%20-122.687158%2C%2045.5315049%5D%2C%20%22geometry%22%3A%20%7B%22coordinates%22%3A%20%5B-122.687158%2C%2045.5315049%5D%2C%20%22type%22%3A%20%22Point%22%7D%2C%20%22id%22%3A%20%2261%22%2C%20%22properties%22%3A%20%7B%7D%2C%20%22type%22%3A%20%22Feature%22%7D%2C%20%7B%22bbox%22%3A%20%5B-122.6798292%2C%2045.5402681%2C%20-122.6798292%2C%2045.5402681%5D%2C%20%22geometry%22%3A%20%7B%22coordinates%22%3A%20%5B-122.6798292%2C%2045.5402681%5D%2C%20%22type%22%3A%20%22Point%22%7D%2C%20%22id%22%3A%20%2262%22%2C%20%22properties%22%3A%20%7B%7D%2C%20%22type%22%3A%20%22Feature%22%7D%2C%20%7B%22bbox%22%3A%20%5B-122.6757252%2C%2045.5437013%2C%20-122.6757252%2C%2045.5437013%5D%2C%20%22geometry%22%3A%20%7B%22coordinates%22%3A%20%5B-122.6757252%2C%2045.5437013%5D%2C%20%22type%22%3A%20%22Point%22%7D%2C%20%22id%22%3A%20%2263%22%2C%20%22properties%22%3A%20%7B%7D%2C%20%22type%22%3A%20%22Feature%22%7D%2C%20%7B%22bbox%22%3A%20%5B-122.6884189%2C%2045.5341154%2C%20-122.6884189%2C%2045.5341154%5D%2C%20%22geometry%22%3A%20%7B%22coordinates%22%3A%20%5B-122.6884189%2C%2045.5341154%5D%2C%20%22type%22%3A%20%22Point%22%7D%2C%20%22id%22%3A%20%2264%22%2C%20%22properties%22%3A%20%7B%7D%2C%20%22type%22%3A%20%22Feature%22%7D%2C%20%7B%22bbox%22%3A%20%5B-122.6876192%2C%2045.5331838%2C%20-122.6876192%2C%2045.5331838%5D%2C%20%22geometry%22%3A%20%7B%22coordinates%22%3A%20%5B-122.6876192%2C%2045.5331838%5D%2C%20%22type%22%3A%20%22Point%22%7D%2C%20%22id%22%3A%20%2265%22%2C%20%22properties%22%3A%20%7B%7D%2C%20%22type%22%3A%20%22Feature%22%7D%2C%20%7B%22bbox%22%3A%20%5B-122.6874385%2C%2045.5286551%2C%20-122.6874385%2C%2045.5286551%5D%2C%20%22geometry%22%3A%20%7B%22coordinates%22%3A%20%5B-122.6874385%2C%2045.5286551%5D%2C%20%22type%22%3A%20%22Point%22%7D%2C%20%22id%22%3A%20%2266%22%2C%20%22properties%22%3A%20%7B%7D%2C%20%22type%22%3A%20%22Feature%22%7D%2C%20%7B%22bbox%22%3A%20%5B-122.6888966%2C%2045.5342491%2C%20-122.6888966%2C%2045.5342491%5D%2C%20%22geometry%22%3A%20%7B%22coordinates%22%3A%20%5B-122.6888966%2C%2045.5342491%5D%2C%20%22type%22%3A%20%22Point%22%7D%2C%20%22id%22%3A%20%2267%22%2C%20%22properties%22%3A%20%7B%7D%2C%20%22type%22%3A%20%22Feature%22%7D%2C%20%7B%22bbox%22%3A%20%5B-122.6859077%2C%2045.5354084%2C%20-122.6859077%2C%2045.5354084%5D%2C%20%22geometry%22%3A%20%7B%22coordinates%22%3A%20%5B-122.6859077%2C%2045.5354084%5D%2C%20%22type%22%3A%20%22Point%22%7D%2C%20%22id%22%3A%20%2268%22%2C%20%22properties%22%3A%20%7B%7D%2C%20%22type%22%3A%20%22Feature%22%7D%2C%20%7B%22bbox%22%3A%20%5B-122.6868976%2C%2045.5304921%2C%20-122.6868976%2C%2045.5304921%5D%2C%20%22geometry%22%3A%20%7B%22coordinates%22%3A%20%5B-122.6868976%2C%2045.5304921%5D%2C%20%22type%22%3A%20%22Point%22%7D%2C%20%22id%22%3A%20%2269%22%2C%20%22properties%22%3A%20%7B%7D%2C%20%22type%22%3A%20%22Feature%22%7D%2C%20%7B%22bbox%22%3A%20%5B-122.677846%2C%2045.5419746%2C%20-122.677846%2C%2045.5419746%5D%2C%20%22geometry%22%3A%20%7B%22coordinates%22%3A%20%5B-122.677846%2C%2045.5419746%5D%2C%20%22type%22%3A%20%22Point%22%7D%2C%20%22id%22%3A%20%2270%22%2C%20%22properties%22%3A%20%7B%7D%2C%20%22type%22%3A%20%22Feature%22%7D%2C%20%7B%22bbox%22%3A%20%5B-122.6745672%2C%2045.5431077%2C%20-122.6745672%2C%2045.5431077%5D%2C%20%22geometry%22%3A%20%7B%22coordinates%22%3A%20%5B-122.6745672%2C%2045.5431077%5D%2C%20%22type%22%3A%20%22Point%22%7D%2C%20%22id%22%3A%20%2271%22%2C%20%22properties%22%3A%20%7B%7D%2C%20%22type%22%3A%20%22Feature%22%7D%2C%20%7B%22bbox%22%3A%20%5B-122.6735162%2C%2045.5427254%2C%20-122.6735162%2C%2045.5427254%5D%2C%20%22geometry%22%3A%20%7B%22coordinates%22%3A%20%5B-122.6735162%2C%2045.5427254%5D%2C%20%22type%22%3A%20%22Point%22%7D%2C%20%22id%22%3A%20%2272%22%2C%20%22properties%22%3A%20%7B%7D%2C%20%22type%22%3A%20%22Feature%22%7D%2C%20%7B%22bbox%22%3A%20%5B-122.6865404%2C%2045.5321012%2C%20-122.6865404%2C%2045.5321012%5D%2C%20%22geometry%22%3A%20%7B%22coordinates%22%3A%20%5B-122.6865404%2C%2045.5321012%5D%2C%20%22type%22%3A%20%22Point%22%7D%2C%20%22id%22%3A%20%2273%22%2C%20%22properties%22%3A%20%7B%7D%2C%20%22type%22%3A%20%22Feature%22%7D%2C%20%7B%22bbox%22%3A%20%5B-122.6852985%2C%2045.5359564%2C%20-122.6852985%2C%2045.5359564%5D%2C%20%22geometry%22%3A%20%7B%22coordinates%22%3A%20%5B-122.6852985%2C%2045.5359564%5D%2C%20%22type%22%3A%20%22Point%22%7D%2C%20%22id%22%3A%20%2274%22%2C%20%22properties%22%3A%20%7B%7D%2C%20%22type%22%3A%20%22Feature%22%7D%2C%20%7B%22bbox%22%3A%20%5B-122.6809328%2C%2045.5395465%2C%20-122.6809328%2C%2045.5395465%5D%2C%20%22geometry%22%3A%20%7B%22coordinates%22%3A%20%5B-122.6809328%2C%2045.5395465%5D%2C%20%22type%22%3A%20%22Point%22%7D%2C%20%22id%22%3A%20%2275%22%2C%20%22properties%22%3A%20%7B%7D%2C%20%22type%22%3A%20%22Feature%22%7D%2C%20%7B%22bbox%22%3A%20%5B-122.6743956%2C%2045.5448861%2C%20-122.6743956%2C%2045.5448861%5D%2C%20%22geometry%22%3A%20%7B%22coordinates%22%3A%20%5B-122.6743956%2C%2045.5448861%5D%2C%20%22type%22%3A%20%22Point%22%7D%2C%20%22id%22%3A%20%2276%22%2C%20%22properties%22%3A%20%7B%7D%2C%20%22type%22%3A%20%22Feature%22%7D%2C%20%7B%22bbox%22%3A%20%5B-122.6870821%2C%2045.5328097%2C%20-122.6870821%2C%2045.5328097%5D%2C%20%22geometry%22%3A%20%7B%22coordinates%22%3A%20%5B-122.6870821%2C%2045.5328097%5D%2C%20%22type%22%3A%20%22Point%22%7D%2C%20%22id%22%3A%20%2277%22%2C%20%22properties%22%3A%20%7B%7D%2C%20%22type%22%3A%20%22Feature%22%7D%2C%20%7B%22bbox%22%3A%20%5B-122.6868854%2C%2045.5340478%2C%20-122.6868854%2C%2045.5340478%5D%2C%20%22geometry%22%3A%20%7B%22coordinates%22%3A%20%5B-122.6868854%2C%2045.5340478%5D%2C%20%22type%22%3A%20%22Point%22%7D%2C%20%22id%22%3A%20%2278%22%2C%20%22properties%22%3A%20%7B%7D%2C%20%22type%22%3A%20%22Feature%22%7D%2C%20%7B%22bbox%22%3A%20%5B-122.6854322%2C%2045.535854%2C%20-122.6854322%2C%2045.535854%5D%2C%20%22geometry%22%3A%20%7B%22coordinates%22%3A%20%5B-122.6854322%2C%2045.535854%5D%2C%20%22type%22%3A%20%22Point%22%7D%2C%20%22id%22%3A%20%2279%22%2C%20%22properties%22%3A%20%7B%7D%2C%20%22type%22%3A%20%22Feature%22%7D%2C%20%7B%22bbox%22%3A%20%5B-122.6773687%2C%2045.5424683%2C%20-122.6773687%2C%2045.5424683%5D%2C%20%22geometry%22%3A%20%7B%22coordinates%22%3A%20%5B-122.6773687%2C%2045.5424683%5D%2C%20%22type%22%3A%20%22Point%22%7D%2C%20%22id%22%3A%20%2280%22%2C%20%22properties%22%3A%20%7B%7D%2C%20%22type%22%3A%20%22Feature%22%7D%2C%20%7B%22bbox%22%3A%20%5B-122.691231%2C%2045.5355544%2C%20-122.691231%2C%2045.5355544%5D%2C%20%22geometry%22%3A%20%7B%22coordinates%22%3A%20%5B-122.691231%2C%2045.5355544%5D%2C%20%22type%22%3A%20%22Point%22%7D%2C%20%22id%22%3A%20%2281%22%2C%20%22properties%22%3A%20%7B%7D%2C%20%22type%22%3A%20%22Feature%22%7D%2C%20%7B%22bbox%22%3A%20%5B-122.6886335%2C%2045.5347505%2C%20-122.6886335%2C%2045.5347505%5D%2C%20%22geometry%22%3A%20%7B%22coordinates%22%3A%20%5B-122.6886335%2C%2045.5347505%5D%2C%20%22type%22%3A%20%22Point%22%7D%2C%20%22id%22%3A%20%2282%22%2C%20%22properties%22%3A%20%7B%7D%2C%20%22type%22%3A%20%22Feature%22%7D%2C%20%7B%22bbox%22%3A%20%5B-122.685361%2C%2045.5364291%2C%20-122.685361%2C%2045.5364291%5D%2C%20%22geometry%22%3A%20%7B%22coordinates%22%3A%20%5B-122.685361%2C%2045.5364291%5D%2C%20%22type%22%3A%20%22Point%22%7D%2C%20%22id%22%3A%20%2283%22%2C%20%22properties%22%3A%20%7B%7D%2C%20%22type%22%3A%20%22Feature%22%7D%2C%20%7B%22bbox%22%3A%20%5B-122.6844089%2C%2045.5367412%2C%20-122.6844089%2C%2045.5367412%5D%2C%20%22geometry%22%3A%20%7B%22coordinates%22%3A%20%5B-122.6844089%2C%2045.5367412%5D%2C%20%22type%22%3A%20%22Point%22%7D%2C%20%22id%22%3A%20%2284%22%2C%20%22properties%22%3A%20%7B%7D%2C%20%22type%22%3A%20%22Feature%22%7D%2C%20%7B%22bbox%22%3A%20%5B-122.6871778%2C%2045.5315066%2C%20-122.6871778%2C%2045.5315066%5D%2C%20%22geometry%22%3A%20%7B%22coordinates%22%3A%20%5B-122.6871778%2C%2045.5315066%5D%2C%20%22type%22%3A%20%22Point%22%7D%2C%20%22id%22%3A%20%2285%22%2C%20%22properties%22%3A%20%7B%7D%2C%20%22type%22%3A%20%22Feature%22%7D%2C%20%7B%22bbox%22%3A%20%5B-122.6770164%2C%2045.5427373%2C%20-122.6770164%2C%2045.5427373%5D%2C%20%22geometry%22%3A%20%7B%22coordinates%22%3A%20%5B-122.6770164%2C%2045.5427373%5D%2C%20%22type%22%3A%20%22Point%22%7D%2C%20%22id%22%3A%20%2286%22%2C%20%22properties%22%3A%20%7B%7D%2C%20%22type%22%3A%20%22Feature%22%7D%2C%20%7B%22bbox%22%3A%20%5B-122.6870731%2C%2045.5318648%2C%20-122.6870731%2C%2045.5318648%5D%2C%20%22geometry%22%3A%20%7B%22coordinates%22%3A%20%5B-122.6870731%2C%2045.5318648%5D%2C%20%22type%22%3A%20%22Point%22%7D%2C%20%22id%22%3A%20%2287%22%2C%20%22properties%22%3A%20%7B%7D%2C%20%22type%22%3A%20%22Feature%22%7D%2C%20%7B%22bbox%22%3A%20%5B-122.6751346%2C%2045.5442994%2C%20-122.6751346%2C%2045.5442994%5D%2C%20%22geometry%22%3A%20%7B%22coordinates%22%3A%20%5B-122.6751346%2C%2045.5442994%5D%2C%20%22type%22%3A%20%22Point%22%7D%2C%20%22id%22%3A%20%2288%22%2C%20%22properties%22%3A%20%7B%7D%2C%20%22type%22%3A%20%22Feature%22%7D%2C%20%7B%22bbox%22%3A%20%5B-122.687186%2C%2045.5329935%2C%20-122.687186%2C%2045.5329935%5D%2C%20%22geometry%22%3A%20%7B%22coordinates%22%3A%20%5B-122.687186%2C%2045.5329935%5D%2C%20%22type%22%3A%20%22Point%22%7D%2C%20%22id%22%3A%20%2289%22%2C%20%22properties%22%3A%20%7B%7D%2C%20%22type%22%3A%20%22Feature%22%7D%2C%20%7B%22bbox%22%3A%20%5B-122.6868668%2C%2045.5302932%2C%20-122.6868668%2C%2045.5302932%5D%2C%20%22geometry%22%3A%20%7B%22coordinates%22%3A%20%5B-122.6868668%2C%2045.5302932%5D%2C%20%22type%22%3A%20%22Point%22%7D%2C%20%22id%22%3A%20%2290%22%2C%20%22properties%22%3A%20%7B%7D%2C%20%22type%22%3A%20%22Feature%22%7D%2C%20%7B%22bbox%22%3A%20%5B-122.6772364%2C%2045.5425081%2C%20-122.6772364%2C%2045.5425081%5D%2C%20%22geometry%22%3A%20%7B%22coordinates%22%3A%20%5B-122.6772364%2C%2045.5425081%5D%2C%20%22type%22%3A%20%22Point%22%7D%2C%20%22id%22%3A%20%2291%22%2C%20%22properties%22%3A%20%7B%7D%2C%20%22type%22%3A%20%22Feature%22%7D%2C%20%7B%22bbox%22%3A%20%5B-122.674063%2C%2045.5447851%2C%20-122.674063%2C%2045.5447851%5D%2C%20%22geometry%22%3A%20%7B%22coordinates%22%3A%20%5B-122.674063%2C%2045.5447851%5D%2C%20%22type%22%3A%20%22Point%22%7D%2C%20%22id%22%3A%20%2292%22%2C%20%22properties%22%3A%20%7B%7D%2C%20%22type%22%3A%20%22Feature%22%7D%2C%20%7B%22bbox%22%3A%20%5B-122.6874787%2C%2045.5321263%2C%20-122.6874787%2C%2045.5321263%5D%2C%20%22geometry%22%3A%20%7B%22coordinates%22%3A%20%5B-122.6874787%2C%2045.5321263%5D%2C%20%22type%22%3A%20%22Point%22%7D%2C%20%22id%22%3A%20%2293%22%2C%20%22properties%22%3A%20%7B%7D%2C%20%22type%22%3A%20%22Feature%22%7D%2C%20%7B%22bbox%22%3A%20%5B-122.682182%2C%2045.5384854%2C%20-122.682182%2C%2045.5384854%5D%2C%20%22geometry%22%3A%20%7B%22coordinates%22%3A%20%5B-122.682182%2C%2045.5384854%5D%2C%20%22type%22%3A%20%22Point%22%7D%2C%20%22id%22%3A%20%2294%22%2C%20%22properties%22%3A%20%7B%7D%2C%20%22type%22%3A%20%22Feature%22%7D%2C%20%7B%22bbox%22%3A%20%5B-122.6772834%2C%2045.5424054%2C%20-122.6772834%2C%2045.5424054%5D%2C%20%22geometry%22%3A%20%7B%22coordinates%22%3A%20%5B-122.6772834%2C%2045.5424054%5D%2C%20%22type%22%3A%20%22Point%22%7D%2C%20%22id%22%3A%20%2295%22%2C%20%22properties%22%3A%20%7B%7D%2C%20%22type%22%3A%20%22Feature%22%7D%2C%20%7B%22bbox%22%3A%20%5B-122.6746847%2C%2045.5446512%2C%20-122.6746847%2C%2045.5446512%5D%2C%20%22geometry%22%3A%20%7B%22coordinates%22%3A%20%5B-122.6746847%2C%2045.5446512%5D%2C%20%22type%22%3A%20%22Point%22%7D%2C%20%22id%22%3A%20%2296%22%2C%20%22properties%22%3A%20%7B%7D%2C%20%22type%22%3A%20%22Feature%22%7D%2C%20%7B%22bbox%22%3A%20%5B-122.6871464%2C%2045.5324572%2C%20-122.6871464%2C%2045.5324572%5D%2C%20%22geometry%22%3A%20%7B%22coordinates%22%3A%20%5B-122.6871464%2C%2045.5324572%5D%2C%20%22type%22%3A%20%22Point%22%7D%2C%20%22id%22%3A%20%2297%22%2C%20%22properties%22%3A%20%7B%7D%2C%20%22type%22%3A%20%22Feature%22%7D%2C%20%7B%22bbox%22%3A%20%5B-122.6868623%2C%2045.5303318%2C%20-122.6868623%2C%2045.5303318%5D%2C%20%22geometry%22%3A%20%7B%22coordinates%22%3A%20%5B-122.6868623%2C%2045.5303318%5D%2C%20%22type%22%3A%20%22Point%22%7D%2C%20%22id%22%3A%20%2298%22%2C%20%22properties%22%3A%20%7B%7D%2C%20%22type%22%3A%20%22Feature%22%7D%2C%20%7B%22bbox%22%3A%20%5B-122.6780037%2C%2045.5418635%2C%20-122.6780037%2C%2045.5418635%5D%2C%20%22geometry%22%3A%20%7B%22coordinates%22%3A%20%5B-122.6780037%2C%2045.5418635%5D%2C%20%22type%22%3A%20%22Point%22%7D%2C%20%22id%22%3A%20%2299%22%2C%20%22properties%22%3A%20%7B%7D%2C%20%22type%22%3A%20%22Feature%22%7D%2C%20%7B%22bbox%22%3A%20%5B-122.6745005%2C%2045.5448203%2C%20-122.6745005%2C%2045.5448203%5D%2C%20%22geometry%22%3A%20%7B%22coordinates%22%3A%20%5B-122.6745005%2C%2045.5448203%5D%2C%20%22type%22%3A%20%22Point%22%7D%2C%20%22id%22%3A%20%22100%22%2C%20%22properties%22%3A%20%7B%7D%2C%20%22type%22%3A%20%22Feature%22%7D%2C%20%7B%22bbox%22%3A%20%5B-122.6871398%2C%2045.5331105%2C%20-122.6871398%2C%2045.5331105%5D%2C%20%22geometry%22%3A%20%7B%22coordinates%22%3A%20%5B-122.6871398%2C%2045.5331105%5D%2C%20%22type%22%3A%20%22Point%22%7D%2C%20%22id%22%3A%20%22101%22%2C%20%22properties%22%3A%20%7B%7D%2C%20%22type%22%3A%20%22Feature%22%7D%2C%20%7B%22bbox%22%3A%20%5B-122.6794948%2C%2045.540758%2C%20-122.6794948%2C%2045.540758%5D%2C%20%22geometry%22%3A%20%7B%22coordinates%22%3A%20%5B-122.6794948%2C%2045.540758%5D%2C%20%22type%22%3A%20%22Point%22%7D%2C%20%22id%22%3A%20%22102%22%2C%20%22properties%22%3A%20%7B%7D%2C%20%22type%22%3A%20%22Feature%22%7D%2C%20%7B%22bbox%22%3A%20%5B-122.6777665%2C%2045.5420794%2C%20-122.6777665%2C%2045.5420794%5D%2C%20%22geometry%22%3A%20%7B%22coordinates%22%3A%20%5B-122.6777665%2C%2045.5420794%5D%2C%20%22type%22%3A%20%22Point%22%7D%2C%20%22id%22%3A%20%22103%22%2C%20%22properties%22%3A%20%7B%7D%2C%20%22type%22%3A%20%22Feature%22%7D%2C%20%7B%22bbox%22%3A%20%5B-122.6755861%2C%2045.5434233%2C%20-122.6755861%2C%2045.5434233%5D%2C%20%22geometry%22%3A%20%7B%22coordinates%22%3A%20%5B-122.6755861%2C%2045.5434233%5D%2C%20%22type%22%3A%20%22Point%22%7D%2C%20%22id%22%3A%20%22104%22%2C%20%22properties%22%3A%20%7B%7D%2C%20%22type%22%3A%20%22Feature%22%7D%2C%20%7B%22bbox%22%3A%20%5B-122.6871662%2C%2045.5321399%2C%20-122.6871662%2C%2045.5321399%5D%2C%20%22geometry%22%3A%20%7B%22coordinates%22%3A%20%5B-122.6871662%2C%2045.5321399%5D%2C%20%22type%22%3A%20%22Point%22%7D%2C%20%22id%22%3A%20%22105%22%2C%20%22properties%22%3A%20%7B%7D%2C%20%22type%22%3A%20%22Feature%22%7D%2C%20%7B%22bbox%22%3A%20%5B-122.678053%2C%2045.5419061%2C%20-122.678053%2C%2045.5419061%5D%2C%20%22geometry%22%3A%20%7B%22coordinates%22%3A%20%5B-122.678053%2C%2045.5419061%5D%2C%20%22type%22%3A%20%22Point%22%7D%2C%20%22id%22%3A%20%22106%22%2C%20%22properties%22%3A%20%7B%7D%2C%20%22type%22%3A%20%22Feature%22%7D%2C%20%7B%22bbox%22%3A%20%5B-122.6870877%2C%2045.5308067%2C%20-122.6870877%2C%2045.5308067%5D%2C%20%22geometry%22%3A%20%7B%22coordinates%22%3A%20%5B-122.6870877%2C%2045.5308067%5D%2C%20%22type%22%3A%20%22Point%22%7D%2C%20%22id%22%3A%20%22107%22%2C%20%22properties%22%3A%20%7B%7D%2C%20%22type%22%3A%20%22Feature%22%7D%2C%20%7B%22bbox%22%3A%20%5B-122.6837649%2C%2045.5372958%2C%20-122.6837649%2C%2045.5372958%5D%2C%20%22geometry%22%3A%20%7B%22coordinates%22%3A%20%5B-122.6837649%2C%2045.5372958%5D%2C%20%22type%22%3A%20%22Point%22%7D%2C%20%22id%22%3A%20%22108%22%2C%20%22properties%22%3A%20%7B%7D%2C%20%22type%22%3A%20%22Feature%22%7D%2C%20%7B%22bbox%22%3A%20%5B-122.6856085%2C%2045.5362066%2C%20-122.6856085%2C%2045.5362066%5D%2C%20%22geometry%22%3A%20%7B%22coordinates%22%3A%20%5B-122.6856085%2C%2045.5362066%5D%2C%20%22type%22%3A%20%22Point%22%7D%2C%20%22id%22%3A%20%22109%22%2C%20%22properties%22%3A%20%7B%7D%2C%20%22type%22%3A%20%22Feature%22%7D%2C%20%7B%22bbox%22%3A%20%5B-122.6803265%2C%2045.5301835%2C%20-122.6803265%2C%2045.5301835%5D%2C%20%22geometry%22%3A%20%7B%22coordinates%22%3A%20%5B-122.6803265%2C%2045.5301835%5D%2C%20%22type%22%3A%20%22Point%22%7D%2C%20%22id%22%3A%20%22110%22%2C%20%22properties%22%3A%20%7B%7D%2C%20%22type%22%3A%20%22Feature%22%7D%2C%20%7B%22bbox%22%3A%20%5B-122.6739181%2C%2045.5319372%2C%20-122.6739181%2C%2045.5319372%5D%2C%20%22geometry%22%3A%20%7B%22coordinates%22%3A%20%5B-122.6739181%2C%2045.5319372%5D%2C%20%22type%22%3A%20%22Point%22%7D%2C%20%22id%22%3A%20%22111%22%2C%20%22properties%22%3A%20%7B%7D%2C%20%22type%22%3A%20%22Feature%22%7D%2C%20%7B%22bbox%22%3A%20%5B-122.6797367%2C%2045.5301066%2C%20-122.6797367%2C%2045.5301066%5D%2C%20%22geometry%22%3A%20%7B%22coordinates%22%3A%20%5B-122.6797367%2C%2045.5301066%5D%2C%20%22type%22%3A%20%22Point%22%7D%2C%20%22id%22%3A%20%22112%22%2C%20%22properties%22%3A%20%7B%7D%2C%20%22type%22%3A%20%22Feature%22%7D%2C%20%7B%22bbox%22%3A%20%5B-122.6725989%2C%2045.5326636%2C%20-122.6725989%2C%2045.5326636%5D%2C%20%22geometry%22%3A%20%7B%22coordinates%22%3A%20%5B-122.6725989%2C%2045.5326636%5D%2C%20%22type%22%3A%20%22Point%22%7D%2C%20%22id%22%3A%20%22113%22%2C%20%22properties%22%3A%20%7B%7D%2C%20%22type%22%3A%20%22Feature%22%7D%2C%20%7B%22bbox%22%3A%20%5B-122.6775825%2C%2045.5303522%2C%20-122.6775825%2C%2045.5303522%5D%2C%20%22geometry%22%3A%20%7B%22coordinates%22%3A%20%5B-122.6775825%2C%2045.5303522%5D%2C%20%22type%22%3A%20%22Point%22%7D%2C%20%22id%22%3A%20%22114%22%2C%20%22properties%22%3A%20%7B%7D%2C%20%22type%22%3A%20%22Feature%22%7D%2C%20%7B%22bbox%22%3A%20%5B-122.6766234%2C%2045.5304847%2C%20-122.6766234%2C%2045.5304847%5D%2C%20%22geometry%22%3A%20%7B%22coordinates%22%3A%20%5B-122.6766234%2C%2045.5304847%5D%2C%20%22type%22%3A%20%22Point%22%7D%2C%20%22id%22%3A%20%22115%22%2C%20%22properties%22%3A%20%7B%7D%2C%20%22type%22%3A%20%22Feature%22%7D%2C%20%7B%22bbox%22%3A%20%5B-122.6773158%2C%2045.5298553%2C%20-122.6773158%2C%2045.5298553%5D%2C%20%22geometry%22%3A%20%7B%22coordinates%22%3A%20%5B-122.6773158%2C%2045.5298553%5D%2C%20%22type%22%3A%20%22Point%22%7D%2C%20%22id%22%3A%20%22116%22%2C%20%22properties%22%3A%20%7B%7D%2C%20%22type%22%3A%20%22Feature%22%7D%2C%20%7B%22bbox%22%3A%20%5B-122.6737016%2C%2045.5320676%2C%20-122.6737016%2C%2045.5320676%5D%2C%20%22geometry%22%3A%20%7B%22coordinates%22%3A%20%5B-122.6737016%2C%2045.5320676%5D%2C%20%22type%22%3A%20%22Point%22%7D%2C%20%22id%22%3A%20%22117%22%2C%20%22properties%22%3A%20%7B%7D%2C%20%22type%22%3A%20%22Feature%22%7D%2C%20%7B%22bbox%22%3A%20%5B-122.6749601%2C%2045.5314675%2C%20-122.6749601%2C%2045.5314675%5D%2C%20%22geometry%22%3A%20%7B%22coordinates%22%3A%20%5B-122.6749601%2C%2045.5314675%5D%2C%20%22type%22%3A%20%22Point%22%7D%2C%20%22id%22%3A%20%22118%22%2C%20%22properties%22%3A%20%7B%7D%2C%20%22type%22%3A%20%22Feature%22%7D%2C%20%7B%22bbox%22%3A%20%5B-122.6740986%2C%2045.5320144%2C%20-122.6740986%2C%2045.5320144%5D%2C%20%22geometry%22%3A%20%7B%22coordinates%22%3A%20%5B-122.6740986%2C%2045.5320144%5D%2C%20%22type%22%3A%20%22Point%22%7D%2C%20%22id%22%3A%20%22119%22%2C%20%22properties%22%3A%20%7B%7D%2C%20%22type%22%3A%20%22Feature%22%7D%2C%20%7B%22bbox%22%3A%20%5B-122.6744555%2C%2045.5316241%2C%20-122.6744555%2C%2045.5316241%5D%2C%20%22geometry%22%3A%20%7B%22coordinates%22%3A%20%5B-122.6744555%2C%2045.5316241%5D%2C%20%22type%22%3A%20%22Point%22%7D%2C%20%22id%22%3A%20%22120%22%2C%20%22properties%22%3A%20%7B%7D%2C%20%22type%22%3A%20%22Feature%22%7D%2C%20%7B%22bbox%22%3A%20%5B-122.6719917%2C%2045.5331407%2C%20-122.6719917%2C%2045.5331407%5D%2C%20%22geometry%22%3A%20%7B%22coordinates%22%3A%20%5B-122.6719917%2C%2045.5331407%5D%2C%20%22type%22%3A%20%22Point%22%7D%2C%20%22id%22%3A%20%22121%22%2C%20%22properties%22%3A%20%7B%7D%2C%20%22type%22%3A%20%22Feature%22%7D%2C%20%7B%22bbox%22%3A%20%5B-122.6748698%2C%2045.5311699%2C%20-122.6748698%2C%2045.5311699%5D%2C%20%22geometry%22%3A%20%7B%22coordinates%22%3A%20%5B-122.6748698%2C%2045.5311699%5D%2C%20%22type%22%3A%20%22Point%22%7D%2C%20%22id%22%3A%20%22122%22%2C%20%22properties%22%3A%20%7B%7D%2C%20%22type%22%3A%20%22Feature%22%7D%2C%20%7B%22bbox%22%3A%20%5B-122.6763097%2C%2045.5306735%2C%20-122.6763097%2C%2045.5306735%5D%2C%20%22geometry%22%3A%20%7B%22coordinates%22%3A%20%5B-122.6763097%2C%2045.5306735%5D%2C%20%22type%22%3A%20%22Point%22%7D%2C%20%22id%22%3A%20%22123%22%2C%20%22properties%22%3A%20%7B%7D%2C%20%22type%22%3A%20%22Feature%22%7D%2C%20%7B%22bbox%22%3A%20%5B-122.6775256%2C%2045.5298426%2C%20-122.6775256%2C%2045.5298426%5D%2C%20%22geometry%22%3A%20%7B%22coordinates%22%3A%20%5B-122.6775256%2C%2045.5298426%5D%2C%20%22type%22%3A%20%22Point%22%7D%2C%20%22id%22%3A%20%22124%22%2C%20%22properties%22%3A%20%7B%7D%2C%20%22type%22%3A%20%22Feature%22%7D%2C%20%7B%22bbox%22%3A%20%5B-122.6725697%2C%2045.532563%2C%20-122.6725697%2C%2045.532563%5D%2C%20%22geometry%22%3A%20%7B%22coordinates%22%3A%20%5B-122.6725697%2C%2045.532563%5D%2C%20%22type%22%3A%20%22Point%22%7D%2C%20%22id%22%3A%20%22125%22%2C%20%22properties%22%3A%20%7B%7D%2C%20%22type%22%3A%20%22Feature%22%7D%2C%20%7B%22bbox%22%3A%20%5B-122.6741811%2C%2045.5318754%2C%20-122.6741811%2C%2045.5318754%5D%2C%20%22geometry%22%3A%20%7B%22coordinates%22%3A%20%5B-122.6741811%2C%2045.5318754%5D%2C%20%22type%22%3A%20%22Point%22%7D%2C%20%22id%22%3A%20%22126%22%2C%20%22properties%22%3A%20%7B%7D%2C%20%22type%22%3A%20%22Feature%22%7D%2C%20%7B%22bbox%22%3A%20%5B-122.6775209%2C%2045.5292707%2C%20-122.6775209%2C%2045.5292707%5D%2C%20%22geometry%22%3A%20%7B%22coordinates%22%3A%20%5B-122.6775209%2C%2045.5292707%5D%2C%20%22type%22%3A%20%22Point%22%7D%2C%20%22id%22%3A%20%22127%22%2C%20%22properties%22%3A%20%7B%7D%2C%20%22type%22%3A%20%22Feature%22%7D%2C%20%7B%22bbox%22%3A%20%5B-122.6754483%2C%2045.5310081%2C%20-122.6754483%2C%2045.5310081%5D%2C%20%22geometry%22%3A%20%7B%22coordinates%22%3A%20%5B-122.6754483%2C%2045.5310081%5D%2C%20%22type%22%3A%20%22Point%22%7D%2C%20%22id%22%3A%20%22128%22%2C%20%22properties%22%3A%20%7B%7D%2C%20%22type%22%3A%20%22Feature%22%7D%2C%20%7B%22bbox%22%3A%20%5B-122.6732386%2C%2045.5322151%2C%20-122.6732386%2C%2045.5322151%5D%2C%20%22geometry%22%3A%20%7B%22coordinates%22%3A%20%5B-122.6732386%2C%2045.5322151%5D%2C%20%22type%22%3A%20%22Point%22%7D%2C%20%22id%22%3A%20%22129%22%2C%20%22properties%22%3A%20%7B%7D%2C%20%22type%22%3A%20%22Feature%22%7D%2C%20%7B%22bbox%22%3A%20%5B-122.6740668%2C%2045.5319041%2C%20-122.6740668%2C%2045.5319041%5D%2C%20%22geometry%22%3A%20%7B%22coordinates%22%3A%20%5B-122.6740668%2C%2045.5319041%5D%2C%20%22type%22%3A%20%22Point%22%7D%2C%20%22id%22%3A%20%22130%22%2C%20%22properties%22%3A%20%7B%7D%2C%20%22type%22%3A%20%22Feature%22%7D%2C%20%7B%22bbox%22%3A%20%5B-122.6723005%2C%2045.5327976%2C%20-122.6723005%2C%2045.5327976%5D%2C%20%22geometry%22%3A%20%7B%22coordinates%22%3A%20%5B-122.6723005%2C%2045.5327976%5D%2C%20%22type%22%3A%20%22Point%22%7D%2C%20%22id%22%3A%20%22131%22%2C%20%22properties%22%3A%20%7B%7D%2C%20%22type%22%3A%20%22Feature%22%7D%2C%20%7B%22bbox%22%3A%20%5B-122.6776186%2C%2045.5300331%2C%20-122.6776186%2C%2045.5300331%5D%2C%20%22geometry%22%3A%20%7B%22coordinates%22%3A%20%5B-122.6776186%2C%2045.5300331%5D%2C%20%22type%22%3A%20%22Point%22%7D%2C%20%22id%22%3A%20%22132%22%2C%20%22properties%22%3A%20%7B%7D%2C%20%22type%22%3A%20%22Feature%22%7D%2C%20%7B%22bbox%22%3A%20%5B-122.6772467%2C%2045.5300859%2C%20-122.6772467%2C%2045.5300859%5D%2C%20%22geometry%22%3A%20%7B%22coordinates%22%3A%20%5B-122.6772467%2C%2045.5300859%5D%2C%20%22type%22%3A%20%22Point%22%7D%2C%20%22id%22%3A%20%22133%22%2C%20%22properties%22%3A%20%7B%7D%2C%20%22type%22%3A%20%22Feature%22%7D%2C%20%7B%22bbox%22%3A%20%5B-122.6775724%2C%2045.5288855%2C%20-122.6775724%2C%2045.5288855%5D%2C%20%22geometry%22%3A%20%7B%22coordinates%22%3A%20%5B-122.6775724%2C%2045.5288855%5D%2C%20%22type%22%3A%20%22Point%22%7D%2C%20%22id%22%3A%20%22134%22%2C%20%22properties%22%3A%20%7B%7D%2C%20%22type%22%3A%20%22Feature%22%7D%2C%20%7B%22bbox%22%3A%20%5B-122.6729677%2C%2045.5324405%2C%20-122.6729677%2C%2045.5324405%5D%2C%20%22geometry%22%3A%20%7B%22coordinates%22%3A%20%5B-122.6729677%2C%2045.5324405%5D%2C%20%22type%22%3A%20%22Point%22%7D%2C%20%22id%22%3A%20%22135%22%2C%20%22properties%22%3A%20%7B%7D%2C%20%22type%22%3A%20%22Feature%22%7D%2C%20%7B%22bbox%22%3A%20%5B-122.6775231%2C%2045.5290286%2C%20-122.6775231%2C%2045.5290286%5D%2C%20%22geometry%22%3A%20%7B%22coordinates%22%3A%20%5B-122.6775231%2C%2045.5290286%5D%2C%20%22type%22%3A%20%22Point%22%7D%2C%20%22id%22%3A%20%22136%22%2C%20%22properties%22%3A%20%7B%7D%2C%20%22type%22%3A%20%22Feature%22%7D%2C%20%7B%22bbox%22%3A%20%5B-122.6778184%2C%2045.529456%2C%20-122.6778184%2C%2045.529456%5D%2C%20%22geometry%22%3A%20%7B%22coordinates%22%3A%20%5B-122.6778184%2C%2045.529456%5D%2C%20%22type%22%3A%20%22Point%22%7D%2C%20%22id%22%3A%20%22137%22%2C%20%22properties%22%3A%20%7B%7D%2C%20%22type%22%3A%20%22Feature%22%7D%2C%20%7B%22bbox%22%3A%20%5B-122.6775742%2C%2045.5297333%2C%20-122.6775742%2C%2045.5297333%5D%2C%20%22geometry%22%3A%20%7B%22coordinates%22%3A%20%5B-122.6775742%2C%2045.5297333%5D%2C%20%22type%22%3A%20%22Point%22%7D%2C%20%22id%22%3A%20%22138%22%2C%20%22properties%22%3A%20%7B%7D%2C%20%22type%22%3A%20%22Feature%22%7D%2C%20%7B%22bbox%22%3A%20%5B-122.6777639%2C%2045.529866%2C%20-122.6777639%2C%2045.529866%5D%2C%20%22geometry%22%3A%20%7B%22coordinates%22%3A%20%5B-122.6777639%2C%2045.529866%5D%2C%20%22type%22%3A%20%22Point%22%7D%2C%20%22id%22%3A%20%22139%22%2C%20%22properties%22%3A%20%7B%7D%2C%20%22type%22%3A%20%22Feature%22%7D%2C%20%7B%22bbox%22%3A%20%5B-122.6771985%2C%2045.5301215%2C%20-122.6771985%2C%2045.5301215%5D%2C%20%22geometry%22%3A%20%7B%22coordinates%22%3A%20%5B-122.6771985%2C%2045.5301215%5D%2C%20%22type%22%3A%20%22Point%22%7D%2C%20%22id%22%3A%20%22140%22%2C%20%22properties%22%3A%20%7B%7D%2C%20%22type%22%3A%20%22Feature%22%7D%2C%20%7B%22bbox%22%3A%20%5B-122.6775815%2C%2045.5300746%2C%20-122.6775815%2C%2045.5300746%5D%2C%20%22geometry%22%3A%20%7B%22coordinates%22%3A%20%5B-122.6775815%2C%2045.5300746%5D%2C%20%22type%22%3A%20%22Point%22%7D%2C%20%22id%22%3A%20%22141%22%2C%20%22properties%22%3A%20%7B%7D%2C%20%22type%22%3A%20%22Feature%22%7D%2C%20%7B%22bbox%22%3A%20%5B-122.677593%2C%2045.5300529%2C%20-122.677593%2C%2045.5300529%5D%2C%20%22geometry%22%3A%20%7B%22coordinates%22%3A%20%5B-122.677593%2C%2045.5300529%5D%2C%20%22type%22%3A%20%22Point%22%7D%2C%20%22id%22%3A%20%22142%22%2C%20%22properties%22%3A%20%7B%7D%2C%20%22type%22%3A%20%22Feature%22%7D%2C%20%7B%22bbox%22%3A%20%5B-122.6746094%2C%2045.5316569%2C%20-122.6746094%2C%2045.5316569%5D%2C%20%22geometry%22%3A%20%7B%22coordinates%22%3A%20%5B-122.6746094%2C%2045.5316569%5D%2C%20%22type%22%3A%20%22Point%22%7D%2C%20%22id%22%3A%20%22143%22%2C%20%22properties%22%3A%20%7B%7D%2C%20%22type%22%3A%20%22Feature%22%7D%2C%20%7B%22bbox%22%3A%20%5B-122.6724855%2C%2045.5323992%2C%20-122.6724855%2C%2045.5323992%5D%2C%20%22geometry%22%3A%20%7B%22coordinates%22%3A%20%5B-122.6724855%2C%2045.5323992%5D%2C%20%22type%22%3A%20%22Point%22%7D%2C%20%22id%22%3A%20%22144%22%2C%20%22properties%22%3A%20%7B%7D%2C%20%22type%22%3A%20%22Feature%22%7D%2C%20%7B%22bbox%22%3A%20%5B-122.6732638%2C%2045.5324015%2C%20-122.6732638%2C%2045.5324015%5D%2C%20%22geometry%22%3A%20%7B%22coordinates%22%3A%20%5B-122.6732638%2C%2045.5324015%5D%2C%20%22type%22%3A%20%22Point%22%7D%2C%20%22id%22%3A%20%22145%22%2C%20%22properties%22%3A%20%7B%7D%2C%20%22type%22%3A%20%22Feature%22%7D%2C%20%7B%22bbox%22%3A%20%5B-122.6801812%2C%2045.5302379%2C%20-122.6801812%2C%2045.5302379%5D%2C%20%22geometry%22%3A%20%7B%22coordinates%22%3A%20%5B-122.6801812%2C%2045.5302379%5D%2C%20%22type%22%3A%20%22Point%22%7D%2C%20%22id%22%3A%20%22146%22%2C%20%22properties%22%3A%20%7B%7D%2C%20%22type%22%3A%20%22Feature%22%7D%2C%20%7B%22bbox%22%3A%20%5B-122.6773319%2C%2045.5301309%2C%20-122.6773319%2C%2045.5301309%5D%2C%20%22geometry%22%3A%20%7B%22coordinates%22%3A%20%5B-122.6773319%2C%2045.5301309%5D%2C%20%22type%22%3A%20%22Point%22%7D%2C%20%22id%22%3A%20%22147%22%2C%20%22properties%22%3A%20%7B%7D%2C%20%22type%22%3A%20%22Feature%22%7D%2C%20%7B%22bbox%22%3A%20%5B-122.6735817%2C%2045.5322967%2C%20-122.6735817%2C%2045.5322967%5D%2C%20%22geometry%22%3A%20%7B%22coordinates%22%3A%20%5B-122.6735817%2C%2045.5322967%5D%2C%20%22type%22%3A%20%22Point%22%7D%2C%20%22id%22%3A%20%22148%22%2C%20%22properties%22%3A%20%7B%7D%2C%20%22type%22%3A%20%22Feature%22%7D%2C%20%7B%22bbox%22%3A%20%5B-122.6737849%2C%2045.5319193%2C%20-122.6737849%2C%2045.5319193%5D%2C%20%22geometry%22%3A%20%7B%22coordinates%22%3A%20%5B-122.6737849%2C%2045.5319193%5D%2C%20%22type%22%3A%20%22Point%22%7D%2C%20%22id%22%3A%20%22149%22%2C%20%22properties%22%3A%20%7B%7D%2C%20%22type%22%3A%20%22Feature%22%7D%2C%20%7B%22bbox%22%3A%20%5B-122.6736049%2C%2045.5321639%2C%20-122.6736049%2C%2045.5321639%5D%2C%20%22geometry%22%3A%20%7B%22coordinates%22%3A%20%5B-122.6736049%2C%2045.5321639%5D%2C%20%22type%22%3A%20%22Point%22%7D%2C%20%22id%22%3A%20%22150%22%2C%20%22properties%22%3A%20%7B%7D%2C%20%22type%22%3A%20%22Feature%22%7D%2C%20%7B%22bbox%22%3A%20%5B-122.674177%2C%2045.531902%2C%20-122.674177%2C%2045.531902%5D%2C%20%22geometry%22%3A%20%7B%22coordinates%22%3A%20%5B-122.674177%2C%2045.531902%5D%2C%20%22type%22%3A%20%22Point%22%7D%2C%20%22id%22%3A%20%22151%22%2C%20%22properties%22%3A%20%7B%7D%2C%20%22type%22%3A%20%22Feature%22%7D%2C%20%7B%22bbox%22%3A%20%5B-122.6782185%2C%2045.5299346%2C%20-122.6782185%2C%2045.5299346%5D%2C%20%22geometry%22%3A%20%7B%22coordinates%22%3A%20%5B-122.6782185%2C%2045.5299346%5D%2C%20%22type%22%3A%20%22Point%22%7D%2C%20%22id%22%3A%20%22152%22%2C%20%22properties%22%3A%20%7B%7D%2C%20%22type%22%3A%20%22Feature%22%7D%2C%20%7B%22bbox%22%3A%20%5B-122.6776393%2C%2045.5286762%2C%20-122.6776393%2C%2045.5286762%5D%2C%20%22geometry%22%3A%20%7B%22coordinates%22%3A%20%5B-122.6776393%2C%2045.5286762%5D%2C%20%22type%22%3A%20%22Point%22%7D%2C%20%22id%22%3A%20%22153%22%2C%20%22properties%22%3A%20%7B%7D%2C%20%22type%22%3A%20%22Feature%22%7D%2C%20%7B%22bbox%22%3A%20%5B-122.675992%2C%2045.5308713%2C%20-122.675992%2C%2045.5308713%5D%2C%20%22geometry%22%3A%20%7B%22coordinates%22%3A%20%5B-122.675992%2C%2045.5308713%5D%2C%20%22type%22%3A%20%22Point%22%7D%2C%20%22id%22%3A%20%22154%22%2C%20%22properties%22%3A%20%7B%7D%2C%20%22type%22%3A%20%22Feature%22%7D%2C%20%7B%22bbox%22%3A%20%5B-122.6723425%2C%2045.5328579%2C%20-122.6723425%2C%2045.5328579%5D%2C%20%22geometry%22%3A%20%7B%22coordinates%22%3A%20%5B-122.6723425%2C%2045.5328579%5D%2C%20%22type%22%3A%20%22Point%22%7D%2C%20%22id%22%3A%20%22155%22%2C%20%22properties%22%3A%20%7B%7D%2C%20%22type%22%3A%20%22Feature%22%7D%2C%20%7B%22bbox%22%3A%20%5B-122.6793119%2C%2045.5301264%2C%20-122.6793119%2C%2045.5301264%5D%2C%20%22geometry%22%3A%20%7B%22coordinates%22%3A%20%5B-122.6793119%2C%2045.5301264%5D%2C%20%22type%22%3A%20%22Point%22%7D%2C%20%22id%22%3A%20%22156%22%2C%20%22properties%22%3A%20%7B%7D%2C%20%22type%22%3A%20%22Feature%22%7D%2C%20%7B%22bbox%22%3A%20%5B-122.6729686%2C%2045.5326344%2C%20-122.6729686%2C%2045.5326344%5D%2C%20%22geometry%22%3A%20%7B%22coordinates%22%3A%20%5B-122.6729686%2C%2045.5326344%5D%2C%20%22type%22%3A%20%22Point%22%7D%2C%20%22id%22%3A%20%22157%22%2C%20%22properties%22%3A%20%7B%7D%2C%20%22type%22%3A%20%22Feature%22%7D%2C%20%7B%22bbox%22%3A%20%5B-122.6773175%2C%2045.5290032%2C%20-122.6773175%2C%2045.5290032%5D%2C%20%22geometry%22%3A%20%7B%22coordinates%22%3A%20%5B-122.6773175%2C%2045.5290032%5D%2C%20%22type%22%3A%20%22Point%22%7D%2C%20%22id%22%3A%20%22158%22%2C%20%22properties%22%3A%20%7B%7D%2C%20%22type%22%3A%20%22Feature%22%7D%2C%20%7B%22bbox%22%3A%20%5B-122.6735019%2C%2045.5323072%2C%20-122.6735019%2C%2045.5323072%5D%2C%20%22geometry%22%3A%20%7B%22coordinates%22%3A%20%5B-122.6735019%2C%2045.5323072%5D%2C%20%22type%22%3A%20%22Point%22%7D%2C%20%22id%22%3A%20%22159%22%2C%20%22properties%22%3A%20%7B%7D%2C%20%22type%22%3A%20%22Feature%22%7D%2C%20%7B%22bbox%22%3A%20%5B-122.6771293%2C%2045.5301032%2C%20-122.6771293%2C%2045.5301032%5D%2C%20%22geometry%22%3A%20%7B%22coordinates%22%3A%20%5B-122.6771293%2C%2045.5301032%5D%2C%20%22type%22%3A%20%22Point%22%7D%2C%20%22id%22%3A%20%22160%22%2C%20%22properties%22%3A%20%7B%7D%2C%20%22type%22%3A%20%22Feature%22%7D%2C%20%7B%22bbox%22%3A%20%5B-122.6733278%2C%2045.5323955%2C%20-122.6733278%2C%2045.5323955%5D%2C%20%22geometry%22%3A%20%7B%22coordinates%22%3A%20%5B-122.6733278%2C%2045.5323955%5D%2C%20%22type%22%3A%20%22Point%22%7D%2C%20%22id%22%3A%20%22161%22%2C%20%22properties%22%3A%20%7B%7D%2C%20%22type%22%3A%20%22Feature%22%7D%2C%20%7B%22bbox%22%3A%20%5B-122.6762543%2C%2045.5305762%2C%20-122.6762543%2C%2045.5305762%5D%2C%20%22geometry%22%3A%20%7B%22coordinates%22%3A%20%5B-122.6762543%2C%2045.5305762%5D%2C%20%22type%22%3A%20%22Point%22%7D%2C%20%22id%22%3A%20%22162%22%2C%20%22properties%22%3A%20%7B%7D%2C%20%22type%22%3A%20%22Feature%22%7D%2C%20%7B%22bbox%22%3A%20%5B-122.6736237%2C%2045.5321588%2C%20-122.6736237%2C%2045.5321588%5D%2C%20%22geometry%22%3A%20%7B%22coordinates%22%3A%20%5B-122.6736237%2C%2045.5321588%5D%2C%20%22type%22%3A%20%22Point%22%7D%2C%20%22id%22%3A%20%22163%22%2C%20%22properties%22%3A%20%7B%7D%2C%20%22type%22%3A%20%22Feature%22%7D%2C%20%7B%22bbox%22%3A%20%5B-122.6734578%2C%2045.532285%2C%20-122.6734578%2C%2045.532285%5D%2C%20%22geometry%22%3A%20%7B%22coordinates%22%3A%20%5B-122.6734578%2C%2045.532285%5D%2C%20%22type%22%3A%20%22Point%22%7D%2C%20%22id%22%3A%20%22164%22%2C%20%22properties%22%3A%20%7B%7D%2C%20%22type%22%3A%20%22Feature%22%7D%2C%20%7B%22bbox%22%3A%20%5B-122.6732435%2C%2045.5321247%2C%20-122.6732435%2C%2045.5321247%5D%2C%20%22geometry%22%3A%20%7B%22coordinates%22%3A%20%5B-122.6732435%2C%2045.5321247%5D%2C%20%22type%22%3A%20%22Point%22%7D%2C%20%22id%22%3A%20%22165%22%2C%20%22properties%22%3A%20%7B%7D%2C%20%22type%22%3A%20%22Feature%22%7D%2C%20%7B%22bbox%22%3A%20%5B-122.6738097%2C%2045.5320411%2C%20-122.6738097%2C%2045.5320411%5D%2C%20%22geometry%22%3A%20%7B%22coordinates%22%3A%20%5B-122.6738097%2C%2045.5320411%5D%2C%20%22type%22%3A%20%22Point%22%7D%2C%20%22id%22%3A%20%22166%22%2C%20%22properties%22%3A%20%7B%7D%2C%20%22type%22%3A%20%22Feature%22%7D%2C%20%7B%22bbox%22%3A%20%5B-122.6749549%2C%2045.5315252%2C%20-122.6749549%2C%2045.5315252%5D%2C%20%22geometry%22%3A%20%7B%22coordinates%22%3A%20%5B-122.6749549%2C%2045.5315252%5D%2C%20%22type%22%3A%20%22Point%22%7D%2C%20%22id%22%3A%20%22167%22%2C%20%22properties%22%3A%20%7B%7D%2C%20%22type%22%3A%20%22Feature%22%7D%2C%20%7B%22bbox%22%3A%20%5B-122.672525%2C%2045.5327693%2C%20-122.672525%2C%2045.5327693%5D%2C%20%22geometry%22%3A%20%7B%22coordinates%22%3A%20%5B-122.672525%2C%2045.5327693%5D%2C%20%22type%22%3A%20%22Point%22%7D%2C%20%22id%22%3A%20%22168%22%2C%20%22properties%22%3A%20%7B%7D%2C%20%22type%22%3A%20%22Feature%22%7D%2C%20%7B%22bbox%22%3A%20%5B-122.6775261%2C%2045.5290642%2C%20-122.6775261%2C%2045.5290642%5D%2C%20%22geometry%22%3A%20%7B%22coordinates%22%3A%20%5B-122.6775261%2C%2045.5290642%5D%2C%20%22type%22%3A%20%22Point%22%7D%2C%20%22id%22%3A%20%22169%22%2C%20%22properties%22%3A%20%7B%7D%2C%20%22type%22%3A%20%22Feature%22%7D%2C%20%7B%22bbox%22%3A%20%5B-122.6741328%2C%2045.5318965%2C%20-122.6741328%2C%2045.5318965%5D%2C%20%22geometry%22%3A%20%7B%22coordinates%22%3A%20%5B-122.6741328%2C%2045.5318965%5D%2C%20%22type%22%3A%20%22Point%22%7D%2C%20%22id%22%3A%20%22170%22%2C%20%22properties%22%3A%20%7B%7D%2C%20%22type%22%3A%20%22Feature%22%7D%2C%20%7B%22bbox%22%3A%20%5B-122.6763284%2C%2045.5307053%2C%20-122.6763284%2C%2045.5307053%5D%2C%20%22geometry%22%3A%20%7B%22coordinates%22%3A%20%5B-122.6763284%2C%2045.5307053%5D%2C%20%22type%22%3A%20%22Point%22%7D%2C%20%22id%22%3A%20%22171%22%2C%20%22properties%22%3A%20%7B%7D%2C%20%22type%22%3A%20%22Feature%22%7D%2C%20%7B%22bbox%22%3A%20%5B-122.6679187%2C%2045.5282077%2C%20-122.6679187%2C%2045.5282077%5D%2C%20%22geometry%22%3A%20%7B%22coordinates%22%3A%20%5B-122.6679187%2C%2045.5282077%5D%2C%20%22type%22%3A%20%22Point%22%7D%2C%20%22id%22%3A%20%22172%22%2C%20%22properties%22%3A%20%7B%7D%2C%20%22type%22%3A%20%22Feature%22%7D%2C%20%7B%22bbox%22%3A%20%5B-122.6678622%2C%2045.5280692%2C%20-122.6678622%2C%2045.5280692%5D%2C%20%22geometry%22%3A%20%7B%22coordinates%22%3A%20%5B-122.6678622%2C%2045.5280692%5D%2C%20%22type%22%3A%20%22Point%22%7D%2C%20%22id%22%3A%20%22173%22%2C%20%22properties%22%3A%20%7B%7D%2C%20%22type%22%3A%20%22Feature%22%7D%2C%20%7B%22bbox%22%3A%20%5B-122.6715578%2C%2045.5264248%2C%20-122.6715578%2C%2045.5264248%5D%2C%20%22geometry%22%3A%20%7B%22coordinates%22%3A%20%5B-122.6715578%2C%2045.5264248%5D%2C%20%22type%22%3A%20%22Point%22%7D%2C%20%22id%22%3A%20%22174%22%2C%20%22properties%22%3A%20%7B%7D%2C%20%22type%22%3A%20%22Feature%22%7D%2C%20%7B%22bbox%22%3A%20%5B-122.6705564%2C%2045.5268432%2C%20-122.6705564%2C%2045.5268432%5D%2C%20%22geometry%22%3A%20%7B%22coordinates%22%3A%20%5B-122.6705564%2C%2045.5268432%5D%2C%20%22type%22%3A%20%22Point%22%7D%2C%20%22id%22%3A%20%22175%22%2C%20%22properties%22%3A%20%7B%7D%2C%20%22type%22%3A%20%22Feature%22%7D%2C%20%7B%22bbox%22%3A%20%5B-122.6669876%2C%2045.5291328%2C%20-122.6669876%2C%2045.5291328%5D%2C%20%22geometry%22%3A%20%7B%22coordinates%22%3A%20%5B-122.6669876%2C%2045.5291328%5D%2C%20%22type%22%3A%20%22Point%22%7D%2C%20%22id%22%3A%20%22176%22%2C%20%22properties%22%3A%20%7B%7D%2C%20%22type%22%3A%20%22Feature%22%7D%2C%20%7B%22bbox%22%3A%20%5B-122.6699568%2C%2045.5271185%2C%20-122.6699568%2C%2045.5271185%5D%2C%20%22geometry%22%3A%20%7B%22coordinates%22%3A%20%5B-122.6699568%2C%2045.5271185%5D%2C%20%22type%22%3A%20%22Point%22%7D%2C%20%22id%22%3A%20%22177%22%2C%20%22properties%22%3A%20%7B%7D%2C%20%22type%22%3A%20%22Feature%22%7D%2C%20%7B%22bbox%22%3A%20%5B-122.6699715%2C%2045.5274392%2C%20-122.6699715%2C%2045.5274392%5D%2C%20%22geometry%22%3A%20%7B%22coordinates%22%3A%20%5B-122.6699715%2C%2045.5274392%5D%2C%20%22type%22%3A%20%22Point%22%7D%2C%20%22id%22%3A%20%22178%22%2C%20%22properties%22%3A%20%7B%7D%2C%20%22type%22%3A%20%22Feature%22%7D%2C%20%7B%22bbox%22%3A%20%5B-122.6695608%2C%2045.5273274%2C%20-122.6695608%2C%2045.5273274%5D%2C%20%22geometry%22%3A%20%7B%22coordinates%22%3A%20%5B-122.6695608%2C%2045.5273274%5D%2C%20%22type%22%3A%20%22Point%22%7D%2C%20%22id%22%3A%20%22179%22%2C%20%22properties%22%3A%20%7B%7D%2C%20%22type%22%3A%20%22Feature%22%7D%2C%20%7B%22bbox%22%3A%20%5B-122.667176%2C%2045.5294462%2C%20-122.667176%2C%2045.5294462%5D%2C%20%22geometry%22%3A%20%7B%22coordinates%22%3A%20%5B-122.667176%2C%2045.5294462%5D%2C%20%22type%22%3A%20%22Point%22%7D%2C%20%22id%22%3A%20%22180%22%2C%20%22properties%22%3A%20%7B%7D%2C%20%22type%22%3A%20%22Feature%22%7D%2C%20%7B%22bbox%22%3A%20%5B-122.6698218%2C%2045.5273713%2C%20-122.6698218%2C%2045.5273713%5D%2C%20%22geometry%22%3A%20%7B%22coordinates%22%3A%20%5B-122.6698218%2C%2045.5273713%5D%2C%20%22type%22%3A%20%22Point%22%7D%2C%20%22id%22%3A%20%22181%22%2C%20%22properties%22%3A%20%7B%7D%2C%20%22type%22%3A%20%22Feature%22%7D%2C%20%7B%22bbox%22%3A%20%5B-122.6704082%2C%2045.5256011%2C%20-122.6704082%2C%2045.5256011%5D%2C%20%22geometry%22%3A%20%7B%22coordinates%22%3A%20%5B-122.6704082%2C%2045.5256011%5D%2C%20%22type%22%3A%20%22Point%22%7D%2C%20%22id%22%3A%20%22182%22%2C%20%22properties%22%3A%20%7B%7D%2C%20%22type%22%3A%20%22Feature%22%7D%2C%20%7B%22bbox%22%3A%20%5B-122.6760012%2C%2045.5053892%2C%20-122.6760012%2C%2045.5053892%5D%2C%20%22geometry%22%3A%20%7B%22coordinates%22%3A%20%5B-122.6760012%2C%2045.5053892%5D%2C%20%22type%22%3A%20%22Point%22%7D%2C%20%22id%22%3A%20%22183%22%2C%20%22properties%22%3A%20%7B%7D%2C%20%22type%22%3A%20%22Feature%22%7D%2C%20%7B%22bbox%22%3A%20%5B-122.6669724%2C%2045.5091054%2C%20-122.6669724%2C%2045.5091054%5D%2C%20%22geometry%22%3A%20%7B%22coordinates%22%3A%20%5B-122.6669724%2C%2045.5091054%5D%2C%20%22type%22%3A%20%22Point%22%7D%2C%20%22id%22%3A%20%22184%22%2C%20%22properties%22%3A%20%7B%7D%2C%20%22type%22%3A%20%22Feature%22%7D%2C%20%7B%22bbox%22%3A%20%5B-122.6667469%2C%2045.5103902%2C%20-122.6667469%2C%2045.5103902%5D%2C%20%22geometry%22%3A%20%7B%22coordinates%22%3A%20%5B-122.6667469%2C%2045.5103902%5D%2C%20%22type%22%3A%20%22Point%22%7D%2C%20%22id%22%3A%20%22185%22%2C%20%22properties%22%3A%20%7B%7D%2C%20%22type%22%3A%20%22Feature%22%7D%2C%20%7B%22bbox%22%3A%20%5B-122.6667324%2C%2045.509547%2C%20-122.6667324%2C%2045.509547%5D%2C%20%22geometry%22%3A%20%7B%22coordinates%22%3A%20%5B-122.6667324%2C%2045.509547%5D%2C%20%22type%22%3A%20%22Point%22%7D%2C%20%22id%22%3A%20%22186%22%2C%20%22properties%22%3A%20%7B%7D%2C%20%22type%22%3A%20%22Feature%22%7D%2C%20%7B%22bbox%22%3A%20%5B-122.66707%2C%2045.510338%2C%20-122.66707%2C%2045.510338%5D%2C%20%22geometry%22%3A%20%7B%22coordinates%22%3A%20%5B-122.66707%2C%2045.510338%5D%2C%20%22type%22%3A%20%22Point%22%7D%2C%20%22id%22%3A%20%22187%22%2C%20%22properties%22%3A%20%7B%7D%2C%20%22type%22%3A%20%22Feature%22%7D%2C%20%7B%22bbox%22%3A%20%5B-122.6668024%2C%2045.5109855%2C%20-122.6668024%2C%2045.5109855%5D%2C%20%22geometry%22%3A%20%7B%22coordinates%22%3A%20%5B-122.6668024%2C%2045.5109855%5D%2C%20%22type%22%3A%20%22Point%22%7D%2C%20%22id%22%3A%20%22188%22%2C%20%22properties%22%3A%20%7B%7D%2C%20%22type%22%3A%20%22Feature%22%7D%2C%20%7B%22bbox%22%3A%20%5B-122.6672215%2C%2045.5091376%2C%20-122.6672215%2C%2045.5091376%5D%2C%20%22geometry%22%3A%20%7B%22coordinates%22%3A%20%5B-122.6672215%2C%2045.5091376%5D%2C%20%22type%22%3A%20%22Point%22%7D%2C%20%22id%22%3A%20%22189%22%2C%20%22properties%22%3A%20%7B%7D%2C%20%22type%22%3A%20%22Feature%22%7D%2C%20%7B%22bbox%22%3A%20%5B-122.6707339%2C%2045.5070216%2C%20-122.6707339%2C%2045.5070216%5D%2C%20%22geometry%22%3A%20%7B%22coordinates%22%3A%20%5B-122.6707339%2C%2045.5070216%5D%2C%20%22type%22%3A%20%22Point%22%7D%2C%20%22id%22%3A%20%22190%22%2C%20%22properties%22%3A%20%7B%7D%2C%20%22type%22%3A%20%22Feature%22%7D%2C%20%7B%22bbox%22%3A%20%5B-122.6668647%2C%2045.5091497%2C%20-122.6668647%2C%2045.5091497%5D%2C%20%22geometry%22%3A%20%7B%22coordinates%22%3A%20%5B-122.6668647%2C%2045.5091497%5D%2C%20%22type%22%3A%20%22Point%22%7D%2C%20%22id%22%3A%20%22191%22%2C%20%22properties%22%3A%20%7B%7D%2C%20%22type%22%3A%20%22Feature%22%7D%2C%20%7B%22bbox%22%3A%20%5B-122.672393%2C%2045.5183795%2C%20-122.672393%2C%2045.5183795%5D%2C%20%22geometry%22%3A%20%7B%22coordinates%22%3A%20%5B-122.672393%2C%2045.5183795%5D%2C%20%22type%22%3A%20%22Point%22%7D%2C%20%22id%22%3A%20%22192%22%2C%20%22properties%22%3A%20%7B%7D%2C%20%22type%22%3A%20%22Feature%22%7D%2C%20%7B%22bbox%22%3A%20%5B-122.6673013%2C%2045.517623%2C%20-122.6673013%2C%2045.517623%5D%2C%20%22geometry%22%3A%20%7B%22coordinates%22%3A%20%5B-122.6673013%2C%2045.517623%5D%2C%20%22type%22%3A%20%22Point%22%7D%2C%20%22id%22%3A%20%22193%22%2C%20%22properties%22%3A%20%7B%7D%2C%20%22type%22%3A%20%22Feature%22%7D%2C%20%7B%22bbox%22%3A%20%5B-122.6674316%2C%2045.5174687%2C%20-122.6674316%2C%2045.5174687%5D%2C%20%22geometry%22%3A%20%7B%22coordinates%22%3A%20%5B-122.6674316%2C%2045.5174687%5D%2C%20%22type%22%3A%20%22Point%22%7D%2C%20%22id%22%3A%20%22194%22%2C%20%22properties%22%3A%20%7B%7D%2C%20%22type%22%3A%20%22Feature%22%7D%2C%20%7B%22bbox%22%3A%20%5B-122.6658803%2C%2045.516057%2C%20-122.6658803%2C%2045.516057%5D%2C%20%22geometry%22%3A%20%7B%22coordinates%22%3A%20%5B-122.6658803%2C%2045.516057%5D%2C%20%22type%22%3A%20%22Point%22%7D%2C%20%22id%22%3A%20%22195%22%2C%20%22properties%22%3A%20%7B%7D%2C%20%22type%22%3A%20%22Feature%22%7D%2C%20%7B%22bbox%22%3A%20%5B-122.66707%2C%2045.517009%2C%20-122.66707%2C%2045.517009%5D%2C%20%22geometry%22%3A%20%7B%22coordinates%22%3A%20%5B-122.66707%2C%2045.517009%5D%2C%20%22type%22%3A%20%22Point%22%7D%2C%20%22id%22%3A%20%22196%22%2C%20%22properties%22%3A%20%7B%7D%2C%20%22type%22%3A%20%22Feature%22%7D%2C%20%7B%22bbox%22%3A%20%5B-122.6674082%2C%2045.5174233%2C%20-122.6674082%2C%2045.5174233%5D%2C%20%22geometry%22%3A%20%7B%22coordinates%22%3A%20%5B-122.6674082%2C%2045.5174233%5D%2C%20%22type%22%3A%20%22Point%22%7D%2C%20%22id%22%3A%20%22197%22%2C%20%22properties%22%3A%20%7B%7D%2C%20%22type%22%3A%20%22Feature%22%7D%2C%20%7B%22bbox%22%3A%20%5B-122.6720015%2C%2045.5195567%2C%20-122.6720015%2C%2045.5195567%5D%2C%20%22geometry%22%3A%20%7B%22coordinates%22%3A%20%5B-122.6720015%2C%2045.5195567%5D%2C%20%22type%22%3A%20%22Point%22%7D%2C%20%22id%22%3A%20%22198%22%2C%20%22properties%22%3A%20%7B%7D%2C%20%22type%22%3A%20%22Feature%22%7D%2C%20%7B%22bbox%22%3A%20%5B-122.6720579%2C%2045.5195958%2C%20-122.6720579%2C%2045.5195958%5D%2C%20%22geometry%22%3A%20%7B%22coordinates%22%3A%20%5B-122.6720579%2C%2045.5195958%5D%2C%20%22type%22%3A%20%22Point%22%7D%2C%20%22id%22%3A%20%22199%22%2C%20%22properties%22%3A%20%7B%7D%2C%20%22type%22%3A%20%22Feature%22%7D%2C%20%7B%22bbox%22%3A%20%5B-122.6716911%2C%2045.5194309%2C%20-122.6716911%2C%2045.5194309%5D%2C%20%22geometry%22%3A%20%7B%22coordinates%22%3A%20%5B-122.6716911%2C%2045.5194309%5D%2C%20%22type%22%3A%20%22Point%22%7D%2C%20%22id%22%3A%20%22200%22%2C%20%22properties%22%3A%20%7B%7D%2C%20%22type%22%3A%20%22Feature%22%7D%2C%20%7B%22bbox%22%3A%20%5B-122.6724097%2C%2045.517538%2C%20-122.6724097%2C%2045.517538%5D%2C%20%22geometry%22%3A%20%7B%22coordinates%22%3A%20%5B-122.6724097%2C%2045.517538%5D%2C%20%22type%22%3A%20%22Point%22%7D%2C%20%22id%22%3A%20%22201%22%2C%20%22properties%22%3A%20%7B%7D%2C%20%22type%22%3A%20%22Feature%22%7D%2C%20%7B%22bbox%22%3A%20%5B-122.6663013%2C%2045.5233086%2C%20-122.6663013%2C%2045.5233086%5D%2C%20%22geometry%22%3A%20%7B%22coordinates%22%3A%20%5B-122.6663013%2C%2045.5233086%5D%2C%20%22type%22%3A%20%22Point%22%7D%2C%20%22id%22%3A%20%22202%22%2C%20%22properties%22%3A%20%7B%7D%2C%20%22type%22%3A%20%22Feature%22%7D%2C%20%7B%22bbox%22%3A%20%5B-122.6664327%2C%2045.5227114%2C%20-122.6664327%2C%2045.5227114%5D%2C%20%22geometry%22%3A%20%7B%22coordinates%22%3A%20%5B-122.6664327%2C%2045.5227114%5D%2C%20%22type%22%3A%20%22Point%22%7D%2C%20%22id%22%3A%20%22203%22%2C%20%22properties%22%3A%20%7B%7D%2C%20%22type%22%3A%20%22Feature%22%7D%2C%20%7B%22bbox%22%3A%20%5B-122.6662959%2C%2045.5233009%2C%20-122.6662959%2C%2045.5233009%5D%2C%20%22geometry%22%3A%20%7B%22coordinates%22%3A%20%5B-122.6662959%2C%2045.5233009%5D%2C%20%22type%22%3A%20%22Point%22%7D%2C%20%22id%22%3A%20%22204%22%2C%20%22properties%22%3A%20%7B%7D%2C%20%22type%22%3A%20%22Feature%22%7D%2C%20%7B%22bbox%22%3A%20%5B-122.6655513%2C%2045.5232358%2C%20-122.6655513%2C%2045.5232358%5D%2C%20%22geometry%22%3A%20%7B%22coordinates%22%3A%20%5B-122.6655513%2C%2045.5232358%5D%2C%20%22type%22%3A%20%22Point%22%7D%2C%20%22id%22%3A%20%22205%22%2C%20%22properties%22%3A%20%7B%7D%2C%20%22type%22%3A%20%22Feature%22%7D%2C%20%7B%22bbox%22%3A%20%5B-122.6652598%2C%2045.5228715%2C%20-122.6652598%2C%2045.5228715%5D%2C%20%22geometry%22%3A%20%7B%22coordinates%22%3A%20%5B-122.6652598%2C%2045.5228715%5D%2C%20%22type%22%3A%20%22Point%22%7D%2C%20%22id%22%3A%20%22206%22%2C%20%22properties%22%3A%20%7B%7D%2C%20%22type%22%3A%20%22Feature%22%7D%2C%20%7B%22bbox%22%3A%20%5B-122.6701159%2C%2045.5231923%2C%20-122.6701159%2C%2045.5231923%5D%2C%20%22geometry%22%3A%20%7B%22coordinates%22%3A%20%5B-122.6701159%2C%2045.5231923%5D%2C%20%22type%22%3A%20%22Point%22%7D%2C%20%22id%22%3A%20%22207%22%2C%20%22properties%22%3A%20%7B%7D%2C%20%22type%22%3A%20%22Feature%22%7D%2C%20%7B%22bbox%22%3A%20%5B-122.669417%2C%2045.5230894%2C%20-122.669417%2C%2045.5230894%5D%2C%20%22geometry%22%3A%20%7B%22coordinates%22%3A%20%5B-122.669417%2C%2045.5230894%5D%2C%20%22type%22%3A%20%22Point%22%7D%2C%20%22id%22%3A%20%22208%22%2C%20%22properties%22%3A%20%7B%7D%2C%20%22type%22%3A%20%22Feature%22%7D%2C%20%7B%22bbox%22%3A%20%5B-122.759104%2C%2045.5879849%2C%20-122.759104%2C%2045.5879849%5D%2C%20%22geometry%22%3A%20%7B%22coordinates%22%3A%20%5B-122.759104%2C%2045.5879849%5D%2C%20%22type%22%3A%20%22Point%22%7D%2C%20%22id%22%3A%20%22209%22%2C%20%22properties%22%3A%20%7B%7D%2C%20%22type%22%3A%20%22Feature%22%7D%2C%20%7B%22bbox%22%3A%20%5B-122.760598%2C%2045.5868919%2C%20-122.760598%2C%2045.5868919%5D%2C%20%22geometry%22%3A%20%7B%22coordinates%22%3A%20%5B-122.760598%2C%2045.5868919%5D%2C%20%22type%22%3A%20%22Point%22%7D%2C%20%22id%22%3A%20%22210%22%2C%20%22properties%22%3A%20%7B%7D%2C%20%22type%22%3A%20%22Feature%22%7D%2C%20%7B%22bbox%22%3A%20%5B-122.7603589%2C%2045.5874359%2C%20-122.7603589%2C%2045.5874359%5D%2C%20%22geometry%22%3A%20%7B%22coordinates%22%3A%20%5B-122.7603589%2C%2045.5874359%5D%2C%20%22type%22%3A%20%22Point%22%7D%2C%20%22id%22%3A%20%22211%22%2C%20%22properties%22%3A%20%7B%7D%2C%20%22type%22%3A%20%22Feature%22%7D%2C%20%7B%22bbox%22%3A%20%5B-122.6716286%2C%2045.5025404%2C%20-122.6716286%2C%2045.5025404%5D%2C%20%22geometry%22%3A%20%7B%22coordinates%22%3A%20%5B-122.6716286%2C%2045.5025404%5D%2C%20%22type%22%3A%20%22Point%22%7D%2C%20%22id%22%3A%20%22212%22%2C%20%22properties%22%3A%20%7B%7D%2C%20%22type%22%3A%20%22Feature%22%7D%2C%20%7B%22bbox%22%3A%20%5B-122.6642118%2C%2045.5065048%2C%20-122.6642118%2C%2045.5065048%5D%2C%20%22geometry%22%3A%20%7B%22coordinates%22%3A%20%5B-122.6642118%2C%2045.5065048%5D%2C%20%22type%22%3A%20%22Point%22%7D%2C%20%22id%22%3A%20%22213%22%2C%20%22properties%22%3A%20%7B%7D%2C%20%22type%22%3A%20%22Feature%22%7D%2C%20%7B%22bbox%22%3A%20%5B-122.6720974%2C%2045.5024659%2C%20-122.6720974%2C%2045.5024659%5D%2C%20%22geometry%22%3A%20%7B%22coordinates%22%3A%20%5B-122.6720974%2C%2045.5024659%5D%2C%20%22type%22%3A%20%22Point%22%7D%2C%20%22id%22%3A%20%22214%22%2C%20%22properties%22%3A%20%7B%7D%2C%20%22type%22%3A%20%22Feature%22%7D%2C%20%7B%22bbox%22%3A%20%5B-122.6690757%2C%2045.5038166%2C%20-122.6690757%2C%2045.5038166%5D%2C%20%22geometry%22%3A%20%7B%22coordinates%22%3A%20%5B-122.6690757%2C%2045.5038166%5D%2C%20%22type%22%3A%20%22Point%22%7D%2C%20%22id%22%3A%20%22215%22%2C%20%22properties%22%3A%20%7B%7D%2C%20%22type%22%3A%20%22Feature%22%7D%2C%20%7B%22bbox%22%3A%20%5B-122.6705873%2C%2045.5029268%2C%20-122.6705873%2C%2045.5029268%5D%2C%20%22geometry%22%3A%20%7B%22coordinates%22%3A%20%5B-122.6705873%2C%2045.5029268%5D%2C%20%22type%22%3A%20%22Point%22%7D%2C%20%22id%22%3A%20%22216%22%2C%20%22properties%22%3A%20%7B%7D%2C%20%22type%22%3A%20%22Feature%22%7D%2C%20%7B%22bbox%22%3A%20%5B-122.6637344%2C%2045.5063756%2C%20-122.6637344%2C%2045.5063756%5D%2C%20%22geometry%22%3A%20%7B%22coordinates%22%3A%20%5B-122.6637344%2C%2045.5063756%5D%2C%20%22type%22%3A%20%22Point%22%7D%2C%20%22id%22%3A%20%22217%22%2C%20%22properties%22%3A%20%7B%7D%2C%20%22type%22%3A%20%22Feature%22%7D%2C%20%7B%22bbox%22%3A%20%5B-122.6702884%2C%2045.5007927%2C%20-122.6702884%2C%2045.5007927%5D%2C%20%22geometry%22%3A%20%7B%22coordinates%22%3A%20%5B-122.6702884%2C%2045.5007927%5D%2C%20%22type%22%3A%20%22Point%22%7D%2C%20%22id%22%3A%20%22218%22%2C%20%22properties%22%3A%20%7B%7D%2C%20%22type%22%3A%20%22Feature%22%7D%2C%20%7B%22bbox%22%3A%20%5B-122.670519%2C%2045.5006562%2C%20-122.670519%2C%2045.5006562%5D%2C%20%22geometry%22%3A%20%7B%22coordinates%22%3A%20%5B-122.670519%2C%2045.5006562%5D%2C%20%22type%22%3A%20%22Point%22%7D%2C%20%22id%22%3A%20%22219%22%2C%20%22properties%22%3A%20%7B%7D%2C%20%22type%22%3A%20%22Feature%22%7D%2C%20%7B%22bbox%22%3A%20%5B-122.6692389%2C%2045.5010482%2C%20-122.6692389%2C%2045.5010482%5D%2C%20%22geometry%22%3A%20%7B%22coordinates%22%3A%20%5B-122.6692389%2C%2045.5010482%5D%2C%20%22type%22%3A%20%22Point%22%7D%2C%20%22id%22%3A%20%22220%22%2C%20%22properties%22%3A%20%7B%7D%2C%20%22type%22%3A%20%22Feature%22%7D%2C%20%7B%22bbox%22%3A%20%5B-122.6679947%2C%2045.5127865%2C%20-122.6679947%2C%2045.5127865%5D%2C%20%22geometry%22%3A%20%7B%22coordinates%22%3A%20%5B-122.6679947%2C%2045.5127865%5D%2C%20%22type%22%3A%20%22Point%22%7D%2C%20%22id%22%3A%20%22221%22%2C%20%22properties%22%3A%20%7B%7D%2C%20%22type%22%3A%20%22Feature%22%7D%2C%20%7B%22bbox%22%3A%20%5B-122.6669337%2C%2045.5122718%2C%20-122.6669337%2C%2045.5122718%5D%2C%20%22geometry%22%3A%20%7B%22coordinates%22%3A%20%5B-122.6669337%2C%2045.5122718%5D%2C%20%22type%22%3A%20%22Point%22%7D%2C%20%22id%22%3A%20%22222%22%2C%20%22properties%22%3A%20%7B%7D%2C%20%22type%22%3A%20%22Feature%22%7D%2C%20%7B%22bbox%22%3A%20%5B-122.6636216%2C%2045.4643218%2C%20-122.6636216%2C%2045.4643218%5D%2C%20%22geometry%22%3A%20%7B%22coordinates%22%3A%20%5B-122.6636216%2C%2045.4643218%5D%2C%20%22type%22%3A%20%22Point%22%7D%2C%20%22id%22%3A%20%22223%22%2C%20%22properties%22%3A%20%7B%7D%2C%20%22type%22%3A%20%22Feature%22%7D%5D%2C%20%22type%22%3A%20%22FeatureCollection%22%7D%29%3B%0A%0A%20%20%20%20%20%20%20%20%0A%3C/script%3E onload=\"this.contentDocument.open();this.contentDocument.write(    decodeURIComponent(this.getAttribute('data-html')));this.contentDocument.close();\" allowfullscreen webkitallowfullscreen mozallowfullscreen></iframe></div></div>"
      ],
      "text/plain": [
       "<folium.folium.Map at 0x7f0136bc2370>"
      ]
     },
     "execution_count": 36,
     "metadata": {},
     "output_type": "execute_result"
    }
   ],
   "source": [
    "m = folium.Map(location=[45.5236, -122.6750], zoom_start=13)\n",
    "folium.GeoJson(data=records_on_bridge['geometry']\n",
    "# , tooltip=folium.features.GeoJsonTooltip(fields=['NAME'])\n",
    "    ).add_to(m)\n",
    "\n",
    "m"
   ]
  },
  {
   "cell_type": "code",
   "execution_count": null,
   "metadata": {},
   "outputs": [],
   "source": []
  }
 ],
 "metadata": {
  "interpreter": {
   "hash": "d4d1e4263499bec80672ea0156c357c1ee493ec2b1c70f0acce89fc37c4a6abe"
  },
  "kernelspec": {
   "display_name": "Python 3.9.4 64-bit ('base': conda)",
   "language": "python",
   "name": "python3"
  },
  "language_info": {
   "codemirror_mode": {
    "name": "ipython",
    "version": 3
   },
   "file_extension": ".py",
   "mimetype": "text/x-python",
   "name": "python",
   "nbconvert_exporter": "python",
   "pygments_lexer": "ipython3",
   "version": "3.9.4"
  },
  "orig_nbformat": 4
 },
 "nbformat": 4,
 "nbformat_minor": 2
}
