{
 "cells": [
  {
   "cell_type": "markdown",
   "metadata": {},
   "source": [
    "## To Do\n",
    "- find bridge geometry files\n",
    "- convert lat/lon to WGS84\n",
    "- convert timestamp and try to separate \"trips\"\n",
    "\n",
    "## Future\n",
    "- think about downloading moving pandas?"
   ]
  },
  {
   "cell_type": "code",
   "execution_count": 2,
   "metadata": {},
   "outputs": [],
   "source": [
    "import pandas as pd\n",
    "import json\n",
    "import geopandas as gpd"
   ]
  },
  {
   "cell_type": "code",
   "execution_count": 12,
   "metadata": {},
   "outputs": [],
   "source": [
    "with open(\"location_data/Records.json\", 'rb') as f:\n",
    "    record_json = json.loads(f.read())"
   ]
  },
  {
   "cell_type": "code",
   "execution_count": 15,
   "metadata": {},
   "outputs": [
    {
     "data": {
      "text/plain": [
       "{'latitudeE7': 476141570,\n",
       " 'longitudeE7': -1223229821,\n",
       " 'accuracy': 30,\n",
       " 'deviceTag': 532271696,\n",
       " 'deviceDesignation': 'PRIMARY',\n",
       " 'timestamp': '2017-12-21T03:26:02.032Z'}"
      ]
     },
     "execution_count": 15,
     "metadata": {},
     "output_type": "execute_result"
    }
   ],
   "source": [
    "record_json['locations'][0]"
   ]
  },
  {
   "cell_type": "code",
   "execution_count": 17,
   "metadata": {},
   "outputs": [
    {
     "data": {
      "text/html": [
       "<div>\n",
       "<style scoped>\n",
       "    .dataframe tbody tr th:only-of-type {\n",
       "        vertical-align: middle;\n",
       "    }\n",
       "\n",
       "    .dataframe tbody tr th {\n",
       "        vertical-align: top;\n",
       "    }\n",
       "\n",
       "    .dataframe thead th {\n",
       "        text-align: right;\n",
       "    }\n",
       "</style>\n",
       "<table border=\"1\" class=\"dataframe\">\n",
       "  <thead>\n",
       "    <tr style=\"text-align: right;\">\n",
       "      <th></th>\n",
       "      <th>latitudeE7</th>\n",
       "      <th>longitudeE7</th>\n",
       "      <th>accuracy</th>\n",
       "      <th>deviceTag</th>\n",
       "      <th>deviceDesignation</th>\n",
       "      <th>timestamp</th>\n",
       "      <th>source</th>\n",
       "      <th>velocity</th>\n",
       "      <th>heading</th>\n",
       "      <th>altitude</th>\n",
       "      <th>verticalAccuracy</th>\n",
       "      <th>platformType</th>\n",
       "      <th>serverTimestamp</th>\n",
       "      <th>deviceTimestamp</th>\n",
       "      <th>batteryCharging</th>\n",
       "      <th>formFactor</th>\n",
       "    </tr>\n",
       "  </thead>\n",
       "  <tbody>\n",
       "    <tr>\n",
       "      <th>0</th>\n",
       "      <td>476141570</td>\n",
       "      <td>-1223229821</td>\n",
       "      <td>30</td>\n",
       "      <td>532271696</td>\n",
       "      <td>PRIMARY</td>\n",
       "      <td>2017-12-21T03:26:02.032Z</td>\n",
       "      <td>NaN</td>\n",
       "      <td>NaN</td>\n",
       "      <td>NaN</td>\n",
       "      <td>NaN</td>\n",
       "      <td>NaN</td>\n",
       "      <td>NaN</td>\n",
       "      <td>NaN</td>\n",
       "      <td>NaN</td>\n",
       "      <td>NaN</td>\n",
       "      <td>NaN</td>\n",
       "    </tr>\n",
       "    <tr>\n",
       "      <th>1</th>\n",
       "      <td>476141557</td>\n",
       "      <td>-1223231129</td>\n",
       "      <td>41</td>\n",
       "      <td>532271696</td>\n",
       "      <td>PRIMARY</td>\n",
       "      <td>2017-12-21T03:38:47.019Z</td>\n",
       "      <td>VISIT_DEPARTURE</td>\n",
       "      <td>NaN</td>\n",
       "      <td>NaN</td>\n",
       "      <td>NaN</td>\n",
       "      <td>NaN</td>\n",
       "      <td>NaN</td>\n",
       "      <td>NaN</td>\n",
       "      <td>NaN</td>\n",
       "      <td>NaN</td>\n",
       "      <td>NaN</td>\n",
       "    </tr>\n",
       "    <tr>\n",
       "      <th>2</th>\n",
       "      <td>476152483</td>\n",
       "      <td>-1223254265</td>\n",
       "      <td>10</td>\n",
       "      <td>532271696</td>\n",
       "      <td>PRIMARY</td>\n",
       "      <td>2017-12-21T03:39:34.439Z</td>\n",
       "      <td>NaN</td>\n",
       "      <td>NaN</td>\n",
       "      <td>NaN</td>\n",
       "      <td>NaN</td>\n",
       "      <td>NaN</td>\n",
       "      <td>NaN</td>\n",
       "      <td>NaN</td>\n",
       "      <td>NaN</td>\n",
       "      <td>NaN</td>\n",
       "      <td>NaN</td>\n",
       "    </tr>\n",
       "  </tbody>\n",
       "</table>\n",
       "</div>"
      ],
      "text/plain": [
       "   latitudeE7  longitudeE7  accuracy  deviceTag deviceDesignation  \\\n",
       "0   476141570  -1223229821        30  532271696           PRIMARY   \n",
       "1   476141557  -1223231129        41  532271696           PRIMARY   \n",
       "2   476152483  -1223254265        10  532271696           PRIMARY   \n",
       "\n",
       "                  timestamp           source  velocity  heading  altitude  \\\n",
       "0  2017-12-21T03:26:02.032Z              NaN       NaN      NaN       NaN   \n",
       "1  2017-12-21T03:38:47.019Z  VISIT_DEPARTURE       NaN      NaN       NaN   \n",
       "2  2017-12-21T03:39:34.439Z              NaN       NaN      NaN       NaN   \n",
       "\n",
       "   verticalAccuracy platformType serverTimestamp deviceTimestamp  \\\n",
       "0               NaN          NaN             NaN             NaN   \n",
       "1               NaN          NaN             NaN             NaN   \n",
       "2               NaN          NaN             NaN             NaN   \n",
       "\n",
       "  batteryCharging formFactor  \n",
       "0             NaN        NaN  \n",
       "1             NaN        NaN  \n",
       "2             NaN        NaN  "
      ]
     },
     "execution_count": 17,
     "metadata": {},
     "output_type": "execute_result"
    }
   ],
   "source": [
    "records_df = pd.DataFrame(record_json['locations'])\n",
    "records_df.head(3)"
   ]
  },
  {
   "cell_type": "code",
   "execution_count": null,
   "metadata": {},
   "outputs": [],
   "source": []
  }
 ],
 "metadata": {
  "interpreter": {
   "hash": "d4d1e4263499bec80672ea0156c357c1ee493ec2b1c70f0acce89fc37c4a6abe"
  },
  "kernelspec": {
   "display_name": "Python 3.9.4 64-bit ('base': conda)",
   "language": "python",
   "name": "python3"
  },
  "language_info": {
   "codemirror_mode": {
    "name": "ipython",
    "version": 3
   },
   "file_extension": ".py",
   "mimetype": "text/x-python",
   "name": "python",
   "nbconvert_exporter": "python",
   "pygments_lexer": "ipython3",
   "version": "3.9.4"
  },
  "orig_nbformat": 4
 },
 "nbformat": 4,
 "nbformat_minor": 2
}
